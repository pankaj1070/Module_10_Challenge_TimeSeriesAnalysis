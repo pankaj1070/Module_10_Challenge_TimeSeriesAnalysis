{
 "cells": [
  {
   "cell_type": "code",
   "execution_count": 45,
   "id": "99833ac2",
   "metadata": {},
   "outputs": [],
   "source": [
    "import numpy as np\n",
    "import pandas as pd\n",
    "from pathlib import Path\n",
    "%matplotlib inline\n",
    "import matplotlib.pyplot as plt\n",
    "import hvplot.pandas\n",
    "\n",
    "import warnings\n",
    "warnings.simplefilter(action='ignore', category=Warning)"
   ]
  },
  {
   "cell_type": "code",
   "execution_count": 46,
   "id": "4ea2bd1d",
   "metadata": {},
   "outputs": [],
   "source": [
    "# Return Forecasting: Time Series Analysis & Modelling with CAD-PHY Exchange rate data"
   ]
  },
  {
   "cell_type": "code",
   "execution_count": 47,
   "id": "d04f3a1d",
   "metadata": {},
   "outputs": [
    {
     "data": {
      "text/html": [
       "<div>\n",
       "<style scoped>\n",
       "    .dataframe tbody tr th:only-of-type {\n",
       "        vertical-align: middle;\n",
       "    }\n",
       "\n",
       "    .dataframe tbody tr th {\n",
       "        vertical-align: top;\n",
       "    }\n",
       "\n",
       "    .dataframe thead th {\n",
       "        text-align: right;\n",
       "    }\n",
       "</style>\n",
       "<table border=\"1\" class=\"dataframe\">\n",
       "  <thead>\n",
       "    <tr style=\"text-align: right;\">\n",
       "      <th></th>\n",
       "      <th>Price</th>\n",
       "      <th>Open</th>\n",
       "      <th>High</th>\n",
       "      <th>Low</th>\n",
       "    </tr>\n",
       "    <tr>\n",
       "      <th>Date</th>\n",
       "      <th></th>\n",
       "      <th></th>\n",
       "      <th></th>\n",
       "      <th></th>\n",
       "    </tr>\n",
       "  </thead>\n",
       "  <tbody>\n",
       "    <tr>\n",
       "      <th>1982-01-05</th>\n",
       "      <td>184.65</td>\n",
       "      <td>184.65</td>\n",
       "      <td>184.65</td>\n",
       "      <td>184.65</td>\n",
       "    </tr>\n",
       "    <tr>\n",
       "      <th>1982-01-06</th>\n",
       "      <td>185.06</td>\n",
       "      <td>185.06</td>\n",
       "      <td>185.06</td>\n",
       "      <td>185.06</td>\n",
       "    </tr>\n",
       "    <tr>\n",
       "      <th>1982-01-07</th>\n",
       "      <td>186.88</td>\n",
       "      <td>186.88</td>\n",
       "      <td>186.88</td>\n",
       "      <td>186.88</td>\n",
       "    </tr>\n",
       "    <tr>\n",
       "      <th>1982-01-08</th>\n",
       "      <td>186.58</td>\n",
       "      <td>186.58</td>\n",
       "      <td>186.58</td>\n",
       "      <td>186.58</td>\n",
       "    </tr>\n",
       "    <tr>\n",
       "      <th>1982-01-11</th>\n",
       "      <td>187.64</td>\n",
       "      <td>187.64</td>\n",
       "      <td>187.64</td>\n",
       "      <td>187.64</td>\n",
       "    </tr>\n",
       "  </tbody>\n",
       "</table>\n",
       "</div>"
      ],
      "text/plain": [
       "             Price    Open    High     Low\n",
       "Date                                      \n",
       "1982-01-05  184.65  184.65  184.65  184.65\n",
       "1982-01-06  185.06  185.06  185.06  185.06\n",
       "1982-01-07  186.88  186.88  186.88  186.88\n",
       "1982-01-08  186.58  186.58  186.58  186.58\n",
       "1982-01-11  187.64  187.64  187.64  187.64"
      ]
     },
     "execution_count": 47,
     "metadata": {},
     "output_type": "execute_result"
    }
   ],
   "source": [
    "# Currency pair exchange rates for CAD/JPY\n",
    "cad_jpy_df = pd.read_csv(\n",
    "    Path(\"C:/Users/panka/Documents/Homework/Module_10_Challenge/cad_jpy.csv\"), index_col=\"Date\", infer_datetime_format=True, parse_dates=True\n",
    ")\n",
    "cad_jpy_df.head()"
   ]
  },
  {
   "cell_type": "code",
   "execution_count": 48,
   "id": "370d4533",
   "metadata": {},
   "outputs": [
    {
     "data": {
      "text/html": [
       "<div>\n",
       "<style scoped>\n",
       "    .dataframe tbody tr th:only-of-type {\n",
       "        vertical-align: middle;\n",
       "    }\n",
       "\n",
       "    .dataframe tbody tr th {\n",
       "        vertical-align: top;\n",
       "    }\n",
       "\n",
       "    .dataframe thead th {\n",
       "        text-align: right;\n",
       "    }\n",
       "</style>\n",
       "<table border=\"1\" class=\"dataframe\">\n",
       "  <thead>\n",
       "    <tr style=\"text-align: right;\">\n",
       "      <th></th>\n",
       "      <th>Price</th>\n",
       "      <th>Open</th>\n",
       "      <th>High</th>\n",
       "      <th>Low</th>\n",
       "    </tr>\n",
       "    <tr>\n",
       "      <th>Date</th>\n",
       "      <th></th>\n",
       "      <th></th>\n",
       "      <th></th>\n",
       "      <th></th>\n",
       "    </tr>\n",
       "  </thead>\n",
       "  <tbody>\n",
       "    <tr>\n",
       "      <th>1990-01-02</th>\n",
       "      <td>126.37</td>\n",
       "      <td>126.31</td>\n",
       "      <td>126.37</td>\n",
       "      <td>126.31</td>\n",
       "    </tr>\n",
       "    <tr>\n",
       "      <th>1990-01-03</th>\n",
       "      <td>125.30</td>\n",
       "      <td>125.24</td>\n",
       "      <td>125.30</td>\n",
       "      <td>125.24</td>\n",
       "    </tr>\n",
       "    <tr>\n",
       "      <th>1990-01-04</th>\n",
       "      <td>123.46</td>\n",
       "      <td>123.41</td>\n",
       "      <td>123.46</td>\n",
       "      <td>123.41</td>\n",
       "    </tr>\n",
       "    <tr>\n",
       "      <th>1990-01-05</th>\n",
       "      <td>124.54</td>\n",
       "      <td>124.48</td>\n",
       "      <td>124.54</td>\n",
       "      <td>124.48</td>\n",
       "    </tr>\n",
       "    <tr>\n",
       "      <th>1990-01-08</th>\n",
       "      <td>124.27</td>\n",
       "      <td>124.21</td>\n",
       "      <td>124.27</td>\n",
       "      <td>124.21</td>\n",
       "    </tr>\n",
       "  </tbody>\n",
       "</table>\n",
       "</div>"
      ],
      "text/plain": [
       "             Price    Open    High     Low\n",
       "Date                                      \n",
       "1990-01-02  126.37  126.31  126.37  126.31\n",
       "1990-01-03  125.30  125.24  125.30  125.24\n",
       "1990-01-04  123.46  123.41  123.46  123.41\n",
       "1990-01-05  124.54  124.48  124.54  124.48\n",
       "1990-01-08  124.27  124.21  124.27  124.21"
      ]
     },
     "execution_count": 48,
     "metadata": {},
     "output_type": "execute_result"
    }
   ],
   "source": [
    "# Trim the dataset to begin on January 1st, 1990\n",
    "cad_jpy_df = cad_jpy_df.loc[\"1990-01-01\":, :]\n",
    "cad_jpy_df.head()"
   ]
  },
  {
   "cell_type": "code",
   "execution_count": 49,
   "id": "c7fc9a38",
   "metadata": {},
   "outputs": [
    {
     "data": {
      "text/plain": [
       "<AxesSubplot:xlabel='Date'>"
      ]
     },
     "execution_count": 49,
     "metadata": {},
     "output_type": "execute_result"
    },
    {
     "data": {
      "image/png": "[encoded data removed]",
      "text/plain": [
       "<Figure size 432x288 with 1 Axes>"
      ]
     },
     "metadata": {
      "needs_background": "light"
     },
     "output_type": "display_data"
    }
   ],
   "source": [
    "# Initial Time-Series Plotting\n",
    "\n",
    "# Plot the \"Price\" column from the dataframe:\n",
    "cad_jpy_df['Price'].plot()"
   ]
  },
  {
   "cell_type": "code",
   "execution_count": 50,
   "id": "4c012525",
   "metadata": {},
   "outputs": [],
   "source": [
    "# Question: Do you see any patterns, long-term and/or short? \n",
    "# Ans: long term : As we can see above plot above the Canadain dollar dropped between the period of 1992 and 2020. 1 CAD was around 120 Yen in 1992 and it decreased to 80 Yen by 2020.\n",
    "# However in short term the CAD has been stable after a volatile drop in 2008; the price being hovering between 70 to 100 Yen/CAD"
   ]
  },
  {
   "cell_type": "code",
   "execution_count": 51,
   "id": "d84ef269",
   "metadata": {},
   "outputs": [],
   "source": [
    "# Decomposition Using a Hodrick-Prescott Filter into trend and noise\n",
    "\n",
    "import statsmodels.api as sm\n",
    "\n",
    "# Apply the Hodrick-Prescott Filter by decomposing the exchange rate price into two separate series:\n",
    "cad_jpy_df_noise, cad_jpy_df_trend = sm.tsa.filters.hpfilter(cad_jpy_df[\"Price\"])"
   ]
  },
  {
   "cell_type": "code",
   "execution_count": 52,
   "id": "c14850a3",
   "metadata": {},
   "outputs": [
    {
     "data": {
      "text/plain": [
       "<AxesSubplot:xlabel='Date'>"
      ]
     },
     "execution_count": 52,
     "metadata": {},
     "output_type": "execute_result"
    },
    {
     "data": {
      "image/png": "[encoded data removed]",
      "text/plain": [
       "<Figure size 432x288 with 1 Axes>"
      ]
     },
     "metadata": {
      "needs_background": "light"
     },
     "output_type": "display_data"
    }
   ],
   "source": [
    "# noise plot\n",
    "cad_jpy_df_noise.plot()"
   ]
  },
  {
   "cell_type": "code",
   "execution_count": 53,
   "id": "34ac1bab",
   "metadata": {},
   "outputs": [
    {
     "data": {
      "text/plain": [
       "<AxesSubplot:xlabel='Date'>"
      ]
     },
     "execution_count": 53,
     "metadata": {},
     "output_type": "execute_result"
    },
    {
     "data": {
      "image/png": "[encoded data removed]",
      "text/plain": [
       "<Figure size 432x288 with 1 Axes>"
      ]
     },
     "metadata": {
      "needs_background": "light"
     },
     "output_type": "display_data"
    }
   ],
   "source": [
    "# trend plot\n",
    "cad_jpy_df_trend.plot()"
   ]
  },
  {
   "cell_type": "code",
   "execution_count": 54,
   "id": "5701f6fe",
   "metadata": {},
   "outputs": [
    {
     "data": {
      "text/html": [
       "<div>\n",
       "<style scoped>\n",
       "    .dataframe tbody tr th:only-of-type {\n",
       "        vertical-align: middle;\n",
       "    }\n",
       "\n",
       "    .dataframe tbody tr th {\n",
       "        vertical-align: top;\n",
       "    }\n",
       "\n",
       "    .dataframe thead th {\n",
       "        text-align: right;\n",
       "    }\n",
       "</style>\n",
       "<table border=\"1\" class=\"dataframe\">\n",
       "  <thead>\n",
       "    <tr style=\"text-align: right;\">\n",
       "      <th></th>\n",
       "      <th>Price</th>\n",
       "      <th>Price_cycle</th>\n",
       "      <th>Price_trend</th>\n",
       "    </tr>\n",
       "    <tr>\n",
       "      <th>Date</th>\n",
       "      <th></th>\n",
       "      <th></th>\n",
       "      <th></th>\n",
       "    </tr>\n",
       "  </thead>\n",
       "  <tbody>\n",
       "    <tr>\n",
       "      <th>1990-01-02</th>\n",
       "      <td>126.37</td>\n",
       "      <td>0.519095</td>\n",
       "      <td>125.850905</td>\n",
       "    </tr>\n",
       "    <tr>\n",
       "      <th>1990-01-03</th>\n",
       "      <td>125.30</td>\n",
       "      <td>-0.379684</td>\n",
       "      <td>125.679684</td>\n",
       "    </tr>\n",
       "    <tr>\n",
       "      <th>1990-01-04</th>\n",
       "      <td>123.46</td>\n",
       "      <td>-2.048788</td>\n",
       "      <td>125.508788</td>\n",
       "    </tr>\n",
       "    <tr>\n",
       "      <th>1990-01-05</th>\n",
       "      <td>124.54</td>\n",
       "      <td>-0.798304</td>\n",
       "      <td>125.338304</td>\n",
       "    </tr>\n",
       "    <tr>\n",
       "      <th>1990-01-08</th>\n",
       "      <td>124.27</td>\n",
       "      <td>-0.897037</td>\n",
       "      <td>125.167037</td>\n",
       "    </tr>\n",
       "  </tbody>\n",
       "</table>\n",
       "</div>"
      ],
      "text/plain": [
       "             Price  Price_cycle  Price_trend\n",
       "Date                                        \n",
       "1990-01-02  126.37     0.519095   125.850905\n",
       "1990-01-03  125.30    -0.379684   125.679684\n",
       "1990-01-04  123.46    -2.048788   125.508788\n",
       "1990-01-05  124.54    -0.798304   125.338304\n",
       "1990-01-08  124.27    -0.897037   125.167037"
      ]
     },
     "execution_count": 54,
     "metadata": {},
     "output_type": "execute_result"
    }
   ],
   "source": [
    "# Create a dataframe of just the exchange rate price, and add columns for \"noise\" and \"trend\" series from above:\n",
    "cad_jpy_df_new = pd.concat([cad_jpy_df['Price'], cad_jpy_df_noise, cad_jpy_df_trend], join=\"inner\", axis=1)\n",
    "cad_jpy_df_new.head()"
   ]
  },
  {
   "cell_type": "code",
   "execution_count": 55,
   "id": "8fd272bc",
   "metadata": {},
   "outputs": [
    {
     "data": {
      "text/html": [
       "<div>\n",
       "<style scoped>\n",
       "    .dataframe tbody tr th:only-of-type {\n",
       "        vertical-align: middle;\n",
       "    }\n",
       "\n",
       "    .dataframe tbody tr th {\n",
       "        vertical-align: top;\n",
       "    }\n",
       "\n",
       "    .dataframe thead th {\n",
       "        text-align: right;\n",
       "    }\n",
       "</style>\n",
       "<table border=\"1\" class=\"dataframe\">\n",
       "  <thead>\n",
       "    <tr style=\"text-align: right;\">\n",
       "      <th></th>\n",
       "      <th>Price</th>\n",
       "      <th>Price_cycle</th>\n",
       "      <th>Price_trend</th>\n",
       "    </tr>\n",
       "    <tr>\n",
       "      <th>Date</th>\n",
       "      <th></th>\n",
       "      <th></th>\n",
       "      <th></th>\n",
       "    </tr>\n",
       "  </thead>\n",
       "  <tbody>\n",
       "    <tr>\n",
       "      <th>2015-01-01</th>\n",
       "      <td>103.12</td>\n",
       "      <td>1.523927</td>\n",
       "      <td>101.596073</td>\n",
       "    </tr>\n",
       "    <tr>\n",
       "      <th>2015-01-02</th>\n",
       "      <td>102.25</td>\n",
       "      <td>0.945717</td>\n",
       "      <td>101.304283</td>\n",
       "    </tr>\n",
       "    <tr>\n",
       "      <th>2015-01-05</th>\n",
       "      <td>101.70</td>\n",
       "      <td>0.708200</td>\n",
       "      <td>100.991800</td>\n",
       "    </tr>\n",
       "    <tr>\n",
       "      <th>2015-01-06</th>\n",
       "      <td>100.04</td>\n",
       "      <td>-0.620865</td>\n",
       "      <td>100.660865</td>\n",
       "    </tr>\n",
       "    <tr>\n",
       "      <th>2015-01-07</th>\n",
       "      <td>100.93</td>\n",
       "      <td>0.615839</td>\n",
       "      <td>100.314161</td>\n",
       "    </tr>\n",
       "  </tbody>\n",
       "</table>\n",
       "</div>"
      ],
      "text/plain": [
       "             Price  Price_cycle  Price_trend\n",
       "Date                                        \n",
       "2015-01-01  103.12     1.523927   101.596073\n",
       "2015-01-02  102.25     0.945717   101.304283\n",
       "2015-01-05  101.70     0.708200   100.991800\n",
       "2015-01-06  100.04    -0.620865   100.660865\n",
       "2015-01-07  100.93     0.615839   100.314161"
      ]
     },
     "execution_count": 55,
     "metadata": {},
     "output_type": "execute_result"
    }
   ],
   "source": [
    "# Trim the dataset to begin on January 1st, 2015 \n",
    "cad_jpy_df_hp = cad_jpy_df_new.loc[\"2015-01-01\":, :]\n",
    "cad_jpy_df_hp.head()"
   ]
  },
  {
   "cell_type": "code",
   "execution_count": 56,
   "id": "8385feab",
   "metadata": {},
   "outputs": [
    {
     "data": {},
     "metadata": {},
     "output_type": "display_data"
    },
    {
     "data": {
      "application/vnd.holoviews_exec.v0+json": "",
      "text/html": [
       "<div id='2018'>\n",
       "\n",
       "\n",
       "\n",
       "\n",
       "\n",
       "  <div class=\"bk-root\" id=\"bf484c20-4916-4b72-9ca0-072a58c4342d\" data-root-id=\"2018\"></div>\n",
       "</div>\n",
       "<script type=\"application/javascript\">(function(root) {\n",
       "  function embed_document(root) {\n",
       "    var docs_json = {\"a883a642-a284-4b69-91a7-623f4f135e2a\":{\"defs\":[{\"extends\":null,\"module\":null,\"name\":\"ReactiveHTML1\",\"overrides\":[],\"properties\":[]},{\"extends\":null,\"module\":null,\"name\":\"FlexBox1\",\"overrides\":[],\"properties\":[{\"default\":\"flex-start\",\"kind\":null,\"name\":\"align_content\"},{\"default\":\"flex-start\",\"kind\":null,\"name\":\"align_items\"},{\"default\":\"row\",\"kind\":null,\"name\":\"flex_direction\"},{\"default\":\"wrap\",\"kind\":null,\"name\":\"flex_wrap\"},{\"default\":\"flex-start\",\"kind\":null,\"name\":\"justify_content\"}]},{\"extends\":null,\"module\":null,\"name\":\"GridStack1\",\"overrides\":[],\"properties\":[{\"default\":\"warn\",\"kind\":null,\"name\":\"mode\"},{\"default\":null,\"kind\":null,\"name\":\"ncols\"},{\"default\":null,\"kind\":null,\"name\":\"nrows\"},{\"default\":true,\"kind\":null,\"name\":\"allow_resize\"},{\"default\":true,\"kind\":null,\"name\":\"allow_drag\"},{\"default\":[],\"kind\":null,\"name\":\"state\"}]},{\"extends\":null,\"module\":null,\"name\":\"click1\",\"overrides\":[],\"properties\":[{\"default\":\"\",\"kind\":null,\"name\":\"terminal_output\"},{\"default\":\"\",\"kind\":null,\"name\":\"debug_name\"},{\"default\":0,\"kind\":null,\"name\":\"clears\"}]},{\"extends\":null,\"module\":null,\"name\":\"TemplateActions1\",\"overrides\":[],\"properties\":[{\"default\":0,\"kind\":null,\"name\":\"open_modal\"},{\"default\":0,\"kind\":null,\"name\":\"close_modal\"}]},{\"extends\":null,\"module\":null,\"name\":\"MaterialTemplateActions1\",\"overrides\":[],\"properties\":[{\"default\":0,\"kind\":null,\"name\":\"open_modal\"},{\"default\":0,\"kind\":null,\"name\":\"close_modal\"}]}],\"roots\":{\"references\":[{\"attributes\":{},\"id\":\"2110\",\"type\":\"UnionRenderers\"},{\"attributes\":{\"bottom_units\":\"screen\",\"coordinates\":null,\"fill_alpha\":0.5,\"fill_color\":\"lightgrey\",\"group\":null,\"left_units\":\"screen\",\"level\":\"overlay\",\"line_alpha\":1.0,\"line_color\":\"black\",\"line_dash\":[4,4],\"line_width\":2,\"right_units\":\"screen\",\"syncable\":false,\"top_units\":\"screen\"},\"id\":\"2046\",\"type\":\"BoxAnnotation\"},{\"attributes\":{\"axis_label\":\"\",\"coordinates\":null,\"formatter\":{\"id\":\"2058\"},\"group\":null,\"major_label_policy\":{\"id\":\"2059\"},\"ticker\":{\"id\":\"2038\"}},\"id\":\"2037\",\"type\":\"LinearAxis\"},{\"attributes\":{},\"id\":\"2059\",\"type\":\"AllLabels\"},{\"attributes\":{\"line_alpha\":0.2,\"line_color\":\"#30a2da\",\"line_width\":2,\"x\":{\"field\":\"Date\"},\"y\":{\"field\":\"value\"}},\"id\":\"2065\",\"type\":\"Line\"},{\"attributes\":{},\"id\":\"2058\",\"type\":\"BasicTickFormatter\"},{\"attributes\":{},\"id\":\"2061\",\"type\":\"Selection\"},{\"attributes\":{},\"id\":\"2075\",\"type\":\"UnionRenderers\"},{\"attributes\":{\"end\":105.96300000000001,\"reset_end\":105.96300000000001,\"reset_start\":71.847,\"start\":71.847,\"tags\":[[[\"value\",\"value\",null]]]},\"id\":\"2021\",\"type\":\"Range1d\"},{\"attributes\":{\"line_alpha\":0.1,\"line_color\":\"#30a2da\",\"line_width\":2,\"x\":{\"field\":\"Date\"},\"y\":{\"field\":\"value\"}},\"id\":\"2064\",\"type\":\"Line\"},{\"attributes\":{\"source\":{\"id\":\"2060\"}},\"id\":\"2067\",\"type\":\"CDSView\"},{\"attributes\":{\"months\":[0,4,8]},\"id\":\"2087\",\"type\":\"MonthsTicker\"},{\"attributes\":{\"coordinates\":null,\"data_source\":{\"id\":\"2060\"},\"glyph\":{\"id\":\"2063\"},\"group\":null,\"hover_glyph\":null,\"muted_glyph\":{\"id\":\"2065\"},\"nonselection_glyph\":{\"id\":\"2064\"},\"selection_glyph\":{\"id\":\"2092\"},\"view\":{\"id\":\"2067\"}},\"id\":\"2066\",\"type\":\"GlyphRenderer\"},{\"attributes\":{\"coordinates\":null,\"group\":null,\"text\":\"Price vs Trend\",\"text_color\":\"black\",\"text_font_size\":\"12pt\"},\"id\":\"2025\",\"type\":\"Title\"},{\"attributes\":{\"days\":[1,15]},\"id\":\"2084\",\"type\":\"DaysTicker\"},{\"attributes\":{\"months\":[0,2,4,6,8,10]},\"id\":\"2086\",\"type\":\"MonthsTicker\"},{\"attributes\":{\"months\":[0,1,2,3,4,5,6,7,8,9,10,11]},\"id\":\"2085\",\"type\":\"MonthsTicker\"},{\"attributes\":{\"end\":1591228800000.0,\"reset_end\":1591228800000.0,\"reset_start\":1420070400000.0,\"start\":1420070400000.0,\"tags\":[[[\"Date\",\"Date\",null]]]},\"id\":\"2020\",\"type\":\"Range1d\"},{\"attributes\":{\"margin\":[5,5,5,5],\"name\":\"HSpacer02973\",\"sizing_mode\":\"stretch_width\"},\"id\":\"2019\",\"type\":\"Spacer\"},{\"attributes\":{\"months\":[0,6]},\"id\":\"2088\",\"type\":\"MonthsTicker\"},{\"attributes\":{\"below\":[{\"id\":\"2033\"}],\"center\":[{\"id\":\"2036\"},{\"id\":\"2040\"}],\"height\":300,\"left\":[{\"id\":\"2037\"}],\"margin\":[5,5,5,5],\"min_border_bottom\":10,\"min_border_left\":10,\"min_border_right\":10,\"min_border_top\":10,\"renderers\":[{\"id\":\"2066\"},{\"id\":\"2099\"}],\"right\":[{\"id\":\"2090\"}],\"sizing_mode\":\"fixed\",\"title\":{\"id\":\"2025\"},\"toolbar\":{\"id\":\"2047\"},\"width\":700,\"x_range\":{\"id\":\"2020\"},\"x_scale\":{\"id\":\"2029\"},\"y_range\":{\"id\":\"2021\"},\"y_scale\":{\"id\":\"2031\"}},\"id\":\"2024\",\"subtype\":\"Figure\",\"type\":\"Plot\"},{\"attributes\":{\"line_color\":\"#fc4f30\",\"line_width\":2,\"x\":{\"field\":\"Date\"},\"y\":{\"field\":\"value\"}},\"id\":\"2096\",\"type\":\"Line\"},{\"attributes\":{\"click_policy\":\"mute\",\"coordinates\":null,\"group\":null,\"items\":[{\"id\":\"2091\"},{\"id\":\"2125\"}],\"location\":[0,0],\"title\":\"Variable\"},\"id\":\"2090\",\"type\":\"Legend\"},{\"attributes\":{\"tools\":[{\"id\":\"2022\"},{\"id\":\"2041\"},{\"id\":\"2042\"},{\"id\":\"2043\"},{\"id\":\"2044\"},{\"id\":\"2045\"}]},\"id\":\"2047\",\"type\":\"Toolbar\"},{\"attributes\":{\"label\":{\"value\":\"Price\"},\"renderers\":[{\"id\":\"2066\"}]},\"id\":\"2091\",\"type\":\"LegendItem\"},{\"attributes\":{\"line_color\":\"#30a2da\",\"line_width\":2,\"x\":{\"field\":\"Date\"},\"y\":{\"field\":\"value\"}},\"id\":\"2092\",\"type\":\"Line\"},{\"attributes\":{},\"id\":\"2029\",\"type\":\"LinearScale\"},{\"attributes\":{\"line_color\":\"#30a2da\",\"line_width\":2,\"x\":{\"field\":\"Date\"},\"y\":{\"field\":\"value\"}},\"id\":\"2063\",\"type\":\"Line\"},{\"attributes\":{\"callback\":null,\"formatters\":{\"@{Date}\":\"datetime\"},\"renderers\":[{\"id\":\"2066\"},{\"id\":\"2099\"}],\"tags\":[\"hv_created\"],\"tooltips\":[[\"Variable\",\"@{Variable}\"],[\"Date\",\"@{Date}{%F %T}\"],[\"value\",\"@{value}\"]]},\"id\":\"2022\",\"type\":\"HoverTool\"},{\"attributes\":{\"data\":{\"Date\":{\"__ndarray__\":\"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\",\"dtype\":\"float64\",\"order\":\"little\",\"shape\":[1416]},\"Variable\":[\"Price_trend\",\"Price_trend\",\"Price_trend\",\"Price_trend\",\"Price_trend\",\"Price_trend\",\"Price_trend\",\"Price_trend\",\"Price_trend\",\"Price_trend\",\"Price_trend\",\"Price_trend\",\"Price_trend\",\"Price_trend\",\"Price_trend\",\"Price_trend\",\"Price_trend\",\"Price_trend\",\"Price_trend\",\"Price_trend\",\"Price_trend\",\"Price_trend\",\"Price_trend\",\"Price_trend\",\"Price_trend\",\"Price_trend\",\"Price_trend\",\"Price_trend\",\"Price_trend\",\"Price_trend\",\"Price_trend\",\"Price_trend\",\"Price_trend\",\"Price_trend\",\"Price_trend\",\"Price_trend\",\"Price_trend\",\"Price_trend\",\"Price_trend\",\"Price_trend\",\"Price_trend\",\"Price_trend\",\"Price_trend\",\"Price_trend\",\"Price_trend\",\"Price_trend\",\"Price_trend\",\"Price_trend\",\"Price_trend\",\"Price_trend\",\"Price_trend\",\"Price_trend\",\"Price_trend\",\"Price_trend\",\"Price_trend\",\"Price_trend\",\"Price_trend\",\"Price_trend\",\"Price_trend\",\"Price_trend\",\"Price_trend\",\"Price_trend\",\"Price_trend\",\"Price_trend\",\"Price_trend\",\"Price_trend\",\"Price_trend\",\"Price_trend\",\"Price_trend\",\"Price_trend\",\"Price_trend\",\"Price_trend\",\"Price_trend\",\"Price_trend\",\"Price_trend\",\"Price_trend\",\"Price_trend\",\"Price_trend\",\"Price_trend\",\"Price_trend\",\"Price_trend\",\"Price_trend\",\"Price_trend\",\"Price_trend\",\"Price_trend\",\"Price_trend\",\"Price_trend\",\"Price_trend\",\"Price_trend\",\"Price_trend\",\"Price_trend\",\"Price_trend\",\"Price_trend\",\"Price_trend\",\"Price_trend\",\"Price_trend\",\"Price_trend\",\"Price_trend\",\"Price_trend\",\"Price_trend\",\"Price_trend\",\"Price_trend\",\"Price_trend\",\"Price_trend\",\"Price_trend\",\"Price_trend\",\"Price_trend\",\"Price_trend\",\"Price_trend\",\"Price_trend\",\"Price_trend\",\"Price_trend\",\"Price_trend\",\"Price_trend\",\"Price_trend\",\"Price_trend\",\"Price_trend\",\"Price_trend\",\"Price_trend\",\"Price_trend\",\"Price_trend\",\"Price_trend\",\"Price_trend\",\"Price_trend\",\"Price_trend\",\"Price_trend\",\"Price_trend\",\"Price_trend\",\"Price_trend\",\"Price_trend\",\"Price_trend\",\"Price_trend\",\"Price_trend\",\"Price_trend\",\"Price_trend\",\"Price_trend\",\"Price_trend\",\"Price_trend\",\"Price_trend\",\"Price_trend\",\"Price_trend\",\"Price_trend\",\"Price_trend\",\"Price_trend\",\"Price_trend\",\"Price_trend\",\"Price_trend\",\"Price_trend\",\"Price_trend\",\"Price_trend\",\"Price_trend\",\"Price_trend\",\"Price_trend\",\"Price_trend\",\"Price_trend\",\"Price_trend\",\"Price_trend\",\"Price_trend\",\"Price_trend\",\"Price_trend\",\"Price_trend\",\"Price_trend\",\"Price_trend\",\"Price_trend\",\"Price_trend\",\"Price_trend\",\"Price_trend\",\"Price_trend\",\"Price_trend\",\"Price_trend\",\"Price_trend\",\"Price_trend\",\"Price_trend\",\"Price_trend\",\"Price_trend\",\"Price_trend\",\"Price_trend\",\"Price_trend\",\"Price_trend\",\"Price_trend\",\"Price_trend\",\"Price_trend\",\"Price_trend\",\"Price_trend\",\"Price_trend\",\"Price_trend\",\"Price_trend\",\"Price_trend\",\"Price_trend\",\"Price_trend\",\"Price_trend\",\"Price_trend\",\"Price_trend\",\"Price_trend\",\"Price_trend\",\"Price_trend\",\"Price_trend\",\"Price_trend\",\"Price_trend\",\"Price_trend\",\"Price_trend\",\"Price_trend\",\"Price_trend\",\"Price_trend\",\"Price_trend\",\"Price_trend\",\"Price_trend\",\"Price_trend\",\"Price_trend\",\"Price_trend\",\"Price_trend\",\"Price_trend\",\"Price_trend\",\"Price_trend\",\"Price_trend\",\"Price_trend\",\"Price_trend\",\"Price_trend\",\"Price_trend\",\"Price_trend\",\"Price_trend\",\"Price_trend\",\"Price_trend\",\"Price_trend\",\"Price_trend\",\"Price_trend\",\"Price_trend\",\"Price_trend\",\"Price_trend\",\"Price_trend\",\"Price_trend\",\"Price_trend\",\"Price_trend\",\"Price_trend\",\"Price_trend\",\"Price_trend\",\"Price_trend\",\"Price_trend\",\"Price_trend\",\"Price_trend\",\"Price_trend\",\"Price_trend\",\"Price_trend\",\"Price_trend\",\"Price_trend\",\"Price_trend\",\"Price_trend\",\"Price_trend\",\"Price_trend\",\"Price_trend\",\"Price_trend\",\"Price_trend\",\"Price_trend\",\"Price_trend\",\"Price_trend\",\"Price_trend\",\"Price_trend\",\"Price_trend\",\"Price_trend\",\"Price_trend\",\"Price_trend\",\"Price_trend\",\"Price_trend\",\"Price_trend\",\"Price_trend\",\"Price_trend\",\"Price_trend\",\"Price_trend\",\"Price_trend\",\"Price_trend\",\"Price_trend\",\"Price_trend\",\"Price_trend\",\"Price_trend\",\"Price_trend\",\"Price_trend\",\"Price_trend\",\"Price_trend\",\"Price_trend\",\"Price_trend\",\"Price_trend\",\"Price_trend\",\"Price_trend\",\"Price_trend\",\"Price_trend\",\"Price_trend\",\"Price_trend\",\"Price_trend\",\"Price_trend\",\"Price_trend\",\"Price_trend\",\"Price_trend\",\"Price_trend\",\"Price_trend\",\"Price_trend\",\"Price_trend\",\"Price_trend\",\"Price_trend\",\"Price_trend\",\"Price_trend\",\"Price_trend\",\"Price_trend\",\"Price_trend\",\"Price_trend\",\"Price_trend\",\"Price_trend\",\"Price_trend\",\"Price_trend\",\"Price_trend\",\"Price_trend\",\"Price_trend\",\"Price_trend\",\"Price_trend\",\"Price_trend\",\"Price_trend\",\"Price_trend\",\"Price_trend\",\"Price_trend\",\"Price_trend\",\"Price_trend\",\"Price_trend\",\"Price_trend\",\"Price_trend\",\"Price_trend\",\"Price_trend\",\"Price_trend\",\"Price_trend\",\"Price_trend\",\"Price_trend\",\"Price_trend\",\"Price_trend\",\"Price_trend\",\"Price_trend\",\"Price_trend\",\"Price_trend\",\"Price_trend\",\"Price_trend\",\"Price_trend\",\"Price_trend\",\"Price_trend\",\"Price_trend\",\"Price_trend\",\"Price_trend\",\"Price_trend\",\"Price_trend\",\"Price_trend\",\"Price_trend\",\"Price_trend\",\"Price_trend\",\"Price_trend\",\"Price_trend\",\"Price_trend\",\"Price_trend\",\"Price_trend\",\"Price_trend\",\"Price_trend\",\"Price_trend\",\"Price_trend\",\"Price_trend\",\"Price_trend\",\"Price_trend\",\"Price_trend\",\"Price_trend\",\"Price_trend\",\"Price_trend\",\"Price_trend\",\"Price_trend\",\"Price_trend\",\"Price_trend\",\"Price_trend\",\"Price_trend\",\"Price_trend\",\"Price_trend\",\"Price_trend\",\"Price_trend\",\"Price_trend\",\"Price_trend\",\"Price_trend\",\"Price_trend\",\"Price_trend\",\"Price_trend\",\"Price_trend\",\"Price_trend\",\"Price_trend\",\"Price_trend\",\"Price_trend\",\"Price_trend\",\"Price_trend\",\"Price_trend\",\"Price_trend\",\"Price_trend\",\"Price_trend\",\"Price_trend\",\"Price_trend\",\"Price_trend\",\"Price_trend\",\"Price_trend\",\"Price_trend\",\"Price_trend\",\"Price_trend\",\"Price_trend\",\"Price_trend\",\"Price_trend\",\"Price_trend\",\"Price_trend\",\"Price_trend\",\"Price_trend\",\"Price_trend\",\"Price_trend\",\"Price_trend\",\"Price_trend\",\"Price_trend\",\"Price_trend\",\"Price_trend\",\"Price_trend\",\"Price_trend\",\"Price_trend\",\"Price_trend\",\"Price_trend\",\"Price_trend\",\"Price_trend\",\"Price_trend\",\"Price_trend\",\"Price_trend\",\"Price_trend\",\"Price_trend\",\"Price_trend\",\"Price_trend\",\"Price_trend\",\"Price_trend\",\"Price_trend\",\"Price_trend\",\"Price_trend\",\"Price_trend\",\"Price_trend\",\"Price_trend\",\"Price_trend\",\"Price_trend\",\"Price_trend\",\"Price_trend\",\"Price_trend\",\"Price_trend\",\"Price_trend\",\"Price_trend\",\"Price_trend\",\"Price_trend\",\"Price_trend\",\"Price_trend\",\"Price_trend\",\"Price_trend\",\"Price_trend\",\"Price_trend\",\"Price_trend\",\"Price_trend\",\"Price_trend\",\"Price_trend\",\"Price_trend\",\"Price_trend\",\"Price_trend\",\"Price_trend\",\"Price_trend\",\"Price_trend\",\"Price_trend\",\"Price_trend\",\"Price_trend\",\"Price_trend\",\"Price_trend\",\"Price_trend\",\"Price_trend\",\"Price_trend\",\"Price_trend\",\"Price_trend\",\"Price_trend\",\"Price_trend\",\"Price_trend\",\"Price_trend\",\"Price_trend\",\"Price_trend\",\"Price_trend\",\"Price_trend\",\"Price_trend\",\"Price_trend\",\"Price_trend\",\"Price_trend\",\"Price_trend\",\"Price_trend\",\"Price_trend\",\"Price_trend\",\"Price_trend\",\"Price_trend\",\"Price_trend\",\"Price_trend\",\"Price_trend\",\"Price_trend\",\"Price_trend\",\"Price_trend\",\"Price_trend\",\"Price_trend\",\"Price_trend\",\"Price_trend\",\"Price_trend\",\"Price_trend\",\"Price_trend\",\"Price_trend\",\"Price_trend\",\"Price_trend\",\"Price_trend\",\"Price_trend\",\"Price_trend\",\"Price_trend\",\"Price_trend\",\"Price_trend\",\"Price_trend\",\"Price_trend\",\"Price_trend\",\"Price_trend\",\"Price_trend\",\"Price_trend\",\"Price_trend\",\"Price_trend\",\"Price_trend\",\"Price_trend\",\"Price_trend\",\"Price_trend\",\"Price_trend\",\"Price_trend\",\"Price_trend\",\"Price_trend\",\"Price_trend\",\"Price_trend\",\"Price_trend\",\"Price_trend\",\"Price_trend\",\"Price_trend\",\"Price_trend\",\"Price_trend\",\"Price_trend\",\"Price_trend\",\"Price_trend\",\"Price_trend\",\"Price_trend\",\"Price_trend\",\"Price_trend\",\"Price_trend\",\"Price_trend\",\"Price_trend\",\"Price_trend\",\"Price_trend\",\"Price_trend\",\"Price_trend\",\"Price_trend\",\"Price_trend\",\"Price_trend\",\"Price_trend\",\"Price_trend\",\"Price_trend\",\"Price_trend\",\"Price_trend\",\"Price_trend\",\"Price_trend\",\"Price_trend\",\"Price_trend\",\"Price_trend\",\"Price_trend\",\"Price_trend\",\"Price_trend\",\"Price_trend\",\"Price_trend\",\"Price_trend\",\"Price_trend\",\"Price_trend\",\"Price_trend\",\"Price_trend\",\"Price_trend\",\"Price_trend\",\"Price_trend\",\"Price_trend\",\"Price_trend\",\"Price_trend\",\"Price_trend\",\"Price_trend\",\"Price_trend\",\"Price_trend\",\"Price_trend\",\"Price_trend\",\"Price_trend\",\"Price_trend\",\"Price_trend\",\"Price_trend\",\"Price_trend\",\"Price_trend\",\"Price_trend\",\"Price_trend\",\"Price_trend\",\"Price_trend\",\"Price_trend\",\"Price_trend\",\"Price_trend\",\"Price_trend\",\"Price_trend\",\"Price_trend\",\"Price_trend\",\"Price_trend\",\"Price_trend\",\"Price_trend\",\"Price_trend\",\"Price_trend\",\"Price_trend\",\"Price_trend\",\"Price_trend\",\"Price_trend\",\"Price_trend\",\"Price_trend\",\"Price_trend\",\"Price_trend\",\"Price_trend\",\"Price_trend\",\"Price_trend\",\"Price_trend\",\"Price_trend\",\"Price_trend\",\"Price_trend\",\"Price_trend\",\"Price_trend\",\"Price_trend\",\"Price_trend\",\"Price_trend\",\"Price_trend\",\"Price_trend\",\"Price_trend\",\"Price_trend\",\"Price_trend\",\"Price_trend\",\"Price_trend\",\"Price_trend\",\"Price_trend\",\"Price_trend\",\"Price_trend\",\"Price_trend\",\"Price_trend\",\"Price_trend\",\"Price_trend\",\"Price_trend\",\"Price_trend\",\"Price_trend\",\"Price_trend\",\"Price_trend\",\"Price_trend\",\"Price_trend\",\"Price_trend\",\"Price_trend\",\"Price_trend\",\"Price_trend\",\"Price_trend\",\"Price_trend\",\"Price_trend\",\"Price_trend\",\"Price_trend\",\"Price_trend\",\"Price_trend\",\"Price_trend\",\"Price_trend\",\"Price_trend\",\"Price_trend\",\"Price_trend\",\"Price_trend\",\"Price_trend\",\"Price_trend\",\"Price_trend\",\"Price_trend\",\"Price_trend\",\"Price_trend\",\"Price_trend\",\"Price_trend\",\"Price_trend\",\"Price_trend\",\"Price_trend\",\"Price_trend\",\"Price_trend\",\"Price_trend\",\"Price_trend\",\"Price_trend\",\"Price_trend\",\"Price_trend\",\"Price_trend\",\"Price_trend\",\"Price_trend\",\"Price_trend\",\"Price_trend\",\"Price_trend\",\"Price_trend\",\"Price_trend\",\"Price_trend\",\"Price_trend\",\"Price_trend\",\"Price_trend\",\"Price_trend\",\"Price_trend\",\"Price_trend\",\"Price_trend\",\"Price_trend\",\"Price_trend\",\"Price_trend\",\"Price_trend\",\"Price_trend\",\"Price_trend\",\"Price_trend\",\"Price_trend\",\"Price_trend\",\"Price_trend\",\"Price_trend\",\"Price_trend\",\"Price_trend\",\"Price_trend\",\"Price_trend\",\"Price_trend\",\"Price_trend\",\"Price_trend\",\"Price_trend\",\"Price_trend\",\"Price_trend\",\"Price_trend\",\"Price_trend\",\"Price_trend\",\"Price_trend\",\"Price_trend\",\"Price_trend\",\"Price_trend\",\"Price_trend\",\"Price_trend\",\"Price_trend\",\"Price_trend\",\"Price_trend\",\"Price_trend\",\"Price_trend\",\"Price_trend\",\"Price_trend\",\"Price_trend\",\"Price_trend\",\"Price_trend\",\"Price_trend\",\"Price_trend\",\"Price_trend\",\"Price_trend\",\"Price_trend\",\"Price_trend\",\"Price_trend\",\"Price_trend\",\"Price_trend\",\"Price_trend\",\"Price_trend\",\"Price_trend\",\"Price_trend\",\"Price_trend\",\"Price_trend\",\"Price_trend\",\"Price_trend\",\"Price_trend\",\"Price_trend\",\"Price_trend\",\"Price_trend\",\"Price_trend\",\"Price_trend\",\"Price_trend\",\"Price_trend\",\"Price_trend\",\"Price_trend\",\"Price_trend\",\"Price_trend\",\"Price_trend\",\"Price_trend\",\"Price_trend\",\"Price_trend\",\"Price_trend\",\"Price_trend\",\"Price_trend\",\"Price_trend\",\"Price_trend\",\"Price_trend\",\"Price_trend\",\"Price_trend\",\"Price_trend\",\"Price_trend\",\"Price_trend\",\"Price_trend\",\"Price_trend\",\"Price_trend\",\"Price_trend\",\"Price_trend\",\"Price_trend\",\"Price_trend\",\"Price_trend\",\"Price_trend\",\"Price_trend\",\"Price_trend\",\"Price_trend\",\"Price_trend\",\"Price_trend\",\"Price_trend\",\"Price_trend\",\"Price_trend\",\"Price_trend\",\"Price_trend\",\"Price_trend\",\"Price_trend\",\"Price_trend\",\"Price_trend\",\"Price_trend\",\"Price_trend\",\"Price_trend\",\"Price_trend\",\"Price_trend\",\"Price_trend\",\"Price_trend\",\"Price_trend\",\"Price_trend\",\"Price_trend\",\"Price_trend\",\"Price_trend\",\"Price_trend\",\"Price_trend\",\"Price_trend\",\"Price_trend\",\"Price_trend\",\"Price_trend\",\"Price_trend\",\"Price_trend\",\"Price_trend\",\"Price_trend\",\"Price_trend\",\"Price_trend\",\"Price_trend\",\"Price_trend\",\"Price_trend\",\"Price_trend\",\"Price_trend\",\"Price_trend\",\"Price_trend\",\"Price_trend\",\"Price_trend\",\"Price_trend\",\"Price_trend\",\"Price_trend\",\"Price_trend\",\"Price_trend\",\"Price_trend\",\"Price_trend\",\"Price_trend\",\"Price_trend\",\"Price_trend\",\"Price_trend\",\"Price_trend\",\"Price_trend\",\"Price_trend\",\"Price_trend\",\"Price_trend\",\"Price_trend\",\"Price_trend\",\"Price_trend\",\"Price_trend\",\"Price_trend\",\"Price_trend\",\"Price_trend\",\"Price_trend\",\"Price_trend\",\"Price_trend\",\"Price_trend\",\"Price_trend\",\"Price_trend\",\"Price_trend\",\"Price_trend\",\"Price_trend\",\"Price_trend\",\"Price_trend\",\"Price_trend\",\"Price_trend\",\"Price_trend\",\"Price_trend\",\"Price_trend\",\"Price_trend\",\"Price_trend\",\"Price_trend\",\"Price_trend\",\"Price_trend\",\"Price_trend\",\"Price_trend\",\"Price_trend\",\"Price_trend\",\"Price_trend\",\"Price_trend\",\"Price_trend\",\"Price_trend\",\"Price_trend\",\"Price_trend\",\"Price_trend\",\"Price_trend\",\"Price_trend\",\"Price_trend\",\"Price_trend\",\"Price_trend\",\"Price_trend\",\"Price_trend\",\"Price_trend\",\"Price_trend\",\"Price_trend\",\"Price_trend\",\"Price_trend\",\"Price_trend\",\"Price_trend\",\"Price_trend\",\"Price_trend\",\"Price_trend\",\"Price_trend\",\"Price_trend\",\"Price_trend\",\"Price_trend\",\"Price_trend\",\"Price_trend\",\"Price_trend\",\"Price_trend\",\"Price_trend\",\"Price_trend\",\"Price_trend\",\"Price_trend\",\"Price_trend\",\"Price_trend\",\"Price_trend\",\"Price_trend\",\"Price_trend\",\"Price_trend\",\"Price_trend\",\"Price_trend\",\"Price_trend\",\"Price_trend\",\"Price_trend\",\"Price_trend\",\"Price_trend\",\"Price_trend\",\"Price_trend\",\"Price_trend\",\"Price_trend\",\"Price_trend\",\"Price_trend\",\"Price_trend\",\"Price_trend\",\"Price_trend\",\"Price_trend\",\"Price_trend\",\"Price_trend\",\"Price_trend\",\"Price_trend\",\"Price_trend\",\"Price_trend\",\"Price_trend\",\"Price_trend\",\"Price_trend\",\"Price_trend\",\"Price_trend\",\"Price_trend\",\"Price_trend\",\"Price_trend\",\"Price_trend\",\"Price_trend\",\"Price_trend\",\"Price_trend\",\"Price_trend\",\"Price_trend\",\"Price_trend\",\"Price_trend\",\"Price_trend\",\"Price_trend\",\"Price_trend\",\"Price_trend\",\"Price_trend\",\"Price_trend\",\"Price_trend\",\"Price_trend\",\"Price_trend\",\"Price_trend\",\"Price_trend\",\"Price_trend\",\"Price_trend\",\"Price_trend\",\"Price_trend\",\"Price_trend\",\"Price_trend\",\"Price_trend\",\"Price_trend\",\"Price_trend\",\"Price_trend\",\"Price_trend\",\"Price_trend\",\"Price_trend\",\"Price_trend\",\"Price_trend\",\"Price_trend\",\"Price_trend\",\"Price_trend\",\"Price_trend\",\"Price_trend\",\"Price_trend\",\"Price_trend\",\"Price_trend\",\"Price_trend\",\"Price_trend\",\"Price_trend\",\"Price_trend\",\"Price_trend\",\"Price_trend\",\"Price_trend\",\"Price_trend\",\"Price_trend\",\"Price_trend\",\"Price_trend\",\"Price_trend\",\"Price_trend\",\"Price_trend\",\"Price_trend\",\"Price_trend\",\"Price_trend\",\"Price_trend\",\"Price_trend\",\"Price_trend\",\"Price_trend\",\"Price_trend\",\"Price_trend\",\"Price_trend\",\"Price_trend\",\"Price_trend\",\"Price_trend\",\"Price_trend\",\"Price_trend\",\"Price_trend\",\"Price_trend\",\"Price_trend\",\"Price_trend\",\"Price_trend\",\"Price_trend\",\"Price_trend\",\"Price_trend\",\"Price_trend\",\"Price_trend\",\"Price_trend\",\"Price_trend\",\"Price_trend\",\"Price_trend\",\"Price_trend\",\"Price_trend\",\"Price_trend\",\"Price_trend\",\"Price_trend\",\"Price_trend\",\"Price_trend\",\"Price_trend\",\"Price_trend\",\"Price_trend\",\"Price_trend\",\"Price_trend\",\"Price_trend\",\"Price_trend\",\"Price_trend\",\"Price_trend\",\"Price_trend\",\"Price_trend\",\"Price_trend\",\"Price_trend\",\"Price_trend\",\"Price_trend\",\"Price_trend\",\"Price_trend\",\"Price_trend\",\"Price_trend\",\"Price_trend\",\"Price_trend\",\"Price_trend\",\"Price_trend\",\"Price_trend\",\"Price_trend\",\"Price_trend\",\"Price_trend\",\"Price_trend\",\"Price_trend\",\"Price_trend\",\"Price_trend\",\"Price_trend\",\"Price_trend\",\"Price_trend\",\"Price_trend\",\"Price_trend\",\"Price_trend\",\"Price_trend\",\"Price_trend\",\"Price_trend\",\"Price_trend\",\"Price_trend\",\"Price_trend\",\"Price_trend\",\"Price_trend\",\"Price_trend\",\"Price_trend\",\"Price_trend\",\"Price_trend\",\"Price_trend\",\"Price_trend\",\"Price_trend\",\"Price_trend\",\"Price_trend\",\"Price_trend\",\"Price_trend\",\"Price_trend\",\"Price_trend\",\"Price_trend\",\"Price_trend\",\"Price_trend\",\"Price_trend\",\"Price_trend\",\"Price_trend\",\"Price_trend\",\"Price_trend\",\"Price_trend\",\"Price_trend\",\"Price_trend\",\"Price_trend\",\"Price_trend\",\"Price_trend\",\"Price_trend\",\"Price_trend\",\"Price_trend\",\"Price_trend\",\"Price_trend\",\"Price_trend\",\"Price_trend\",\"Price_trend\",\"Price_trend\",\"Price_trend\",\"Price_trend\",\"Price_trend\",\"Price_trend\",\"Price_trend\",\"Price_trend\",\"Price_trend\",\"Price_trend\",\"Price_trend\",\"Price_trend\",\"Price_trend\",\"Price_trend\",\"Price_trend\",\"Price_trend\",\"Price_trend\",\"Price_trend\",\"Price_trend\",\"Price_trend\",\"Price_trend\",\"Price_trend\",\"Price_trend\",\"Price_trend\",\"Price_trend\",\"Price_trend\",\"Price_trend\",\"Price_trend\",\"Price_trend\",\"Price_trend\",\"Price_trend\",\"Price_trend\",\"Price_trend\",\"Price_trend\",\"Price_trend\",\"Price_trend\",\"Price_trend\",\"Price_trend\",\"Price_trend\",\"Price_trend\",\"Price_trend\",\"Price_trend\",\"Price_trend\",\"Price_trend\",\"Price_trend\",\"Price_trend\",\"Price_trend\",\"Price_trend\",\"Price_trend\",\"Price_trend\",\"Price_trend\",\"Price_trend\",\"Price_trend\",\"Price_trend\",\"Price_trend\",\"Price_trend\",\"Price_trend\",\"Price_trend\",\"Price_trend\",\"Price_trend\",\"Price_trend\",\"Price_trend\",\"Price_trend\",\"Price_trend\",\"Price_trend\",\"Price_trend\",\"Price_trend\",\"Price_trend\",\"Price_trend\",\"Price_trend\",\"Price_trend\",\"Price_trend\",\"Price_trend\",\"Price_trend\",\"Price_trend\",\"Price_trend\",\"Price_trend\",\"Price_trend\",\"Price_trend\",\"Price_trend\",\"Price_trend\",\"Price_trend\",\"Price_trend\",\"Price_trend\",\"Price_trend\",\"Price_trend\",\"Price_trend\",\"Price_trend\",\"Price_trend\",\"Price_trend\",\"Price_trend\",\"Price_trend\",\"Price_trend\",\"Price_trend\",\"Price_trend\",\"Price_trend\",\"Price_trend\",\"Price_trend\",\"Price_trend\",\"Price_trend\",\"Price_trend\",\"Price_trend\",\"Price_trend\",\"Price_trend\",\"Price_trend\",\"Price_trend\",\"Price_trend\",\"Price_trend\",\"Price_trend\",\"Price_trend\",\"Price_trend\",\"Price_trend\",\"Price_trend\",\"Price_trend\",\"Price_trend\",\"Price_trend\",\"Price_trend\",\"Price_trend\",\"Price_trend\",\"Price_trend\",\"Price_trend\",\"Price_trend\",\"Price_trend\",\"Price_trend\",\"Price_trend\",\"Price_trend\",\"Price_trend\",\"Price_trend\",\"Price_trend\",\"Price_trend\",\"Price_trend\",\"Price_trend\",\"Price_trend\",\"Price_trend\",\"Price_trend\",\"Price_trend\",\"Price_trend\",\"Price_trend\",\"Price_trend\",\"Price_trend\",\"Price_trend\",\"Price_trend\",\"Price_trend\",\"Price_trend\",\"Price_trend\",\"Price_trend\",\"Price_trend\",\"Price_trend\",\"Price_trend\",\"Price_trend\",\"Price_trend\",\"Price_trend\",\"Price_trend\",\"Price_trend\",\"Price_trend\",\"Price_trend\",\"Price_trend\",\"Price_trend\",\"Price_trend\",\"Price_trend\",\"Price_trend\",\"Price_trend\",\"Price_trend\",\"Price_trend\",\"Price_trend\",\"Price_trend\",\"Price_trend\",\"Price_trend\",\"Price_trend\",\"Price_trend\",\"Price_trend\",\"Price_trend\",\"Price_trend\",\"Price_trend\",\"Price_trend\",\"Price_trend\",\"Price_trend\",\"Price_trend\",\"Price_trend\",\"Price_trend\",\"Price_trend\",\"Price_trend\",\"Price_trend\",\"Price_trend\",\"Price_trend\",\"Price_trend\",\"Price_trend\",\"Price_trend\",\"Price_trend\",\"Price_trend\",\"Price_trend\",\"Price_trend\",\"Price_trend\",\"Price_trend\",\"Price_trend\",\"Price_trend\",\"Price_trend\",\"Price_trend\",\"Price_trend\",\"Price_trend\",\"Price_trend\",\"Price_trend\",\"Price_trend\",\"Price_trend\",\"Price_trend\",\"Price_trend\",\"Price_trend\",\"Price_trend\",\"Price_trend\",\"Price_trend\",\"Price_trend\",\"Price_trend\",\"Price_trend\",\"Price_trend\",\"Price_trend\",\"Price_trend\",\"Price_trend\",\"Price_trend\",\"Price_trend\",\"Price_trend\",\"Price_trend\",\"Price_trend\",\"Price_trend\",\"Price_trend\",\"Price_trend\",\"Price_trend\",\"Price_trend\",\"Price_trend\",\"Price_trend\",\"Price_trend\",\"Price_trend\",\"Price_trend\",\"Price_trend\",\"Price_trend\",\"Price_trend\",\"Price_trend\",\"Price_trend\",\"Price_trend\",\"Price_trend\",\"Price_trend\",\"Price_trend\",\"Price_trend\",\"Price_trend\",\"Price_trend\",\"Price_trend\",\"Price_trend\",\"Price_trend\",\"Price_trend\",\"Price_trend\",\"Price_trend\",\"Price_trend\",\"Price_trend\",\"Price_trend\",\"Price_trend\",\"Price_trend\",\"Price_trend\",\"Price_trend\",\"Price_trend\",\"Price_trend\",\"Price_trend\",\"Price_trend\",\"Price_trend\",\"Price_trend\",\"Price_trend\",\"Price_trend\",\"Price_trend\",\"Price_trend\",\"Price_trend\",\"Price_trend\",\"Price_trend\",\"Price_trend\",\"Price_trend\",\"Price_trend\",\"Price_trend\",\"Price_trend\",\"Price_trend\",\"Price_trend\",\"Price_trend\",\"Price_trend\",\"Price_trend\",\"Price_trend\",\"Price_trend\",\"Price_trend\",\"Price_trend\"],\"value\":{\"__ndarray__\":\"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\",\"dtype\":\"float64\",\"order\":\"little\",\"shape\":[1416]}},\"selected\":{\"id\":\"2094\"},\"selection_policy\":{\"id\":\"2110\"}},\"id\":\"2093\",\"type\":\"ColumnDataSource\"},{\"attributes\":{},\"id\":\"2031\",\"type\":\"LinearScale\"},{\"attributes\":{\"children\":[{\"id\":\"2019\"},{\"id\":\"2024\"},{\"id\":\"2343\"}],\"margin\":[0,0,0,0],\"name\":\"Row02969\",\"tags\":[\"embedded\"]},\"id\":\"2018\",\"type\":\"Row\"},{\"attributes\":{\"axis\":{\"id\":\"2033\"},\"coordinates\":null,\"grid_line_color\":null,\"group\":null,\"ticker\":null},\"id\":\"2036\",\"type\":\"Grid\"},{\"attributes\":{\"line_alpha\":0.1,\"line_color\":\"#fc4f30\",\"line_width\":2,\"x\":{\"field\":\"Date\"},\"y\":{\"field\":\"value\"}},\"id\":\"2097\",\"type\":\"Line\"},{\"attributes\":{\"num_minor_ticks\":5,\"tickers\":[{\"id\":\"2078\"},{\"id\":\"2079\"},{\"id\":\"2080\"},{\"id\":\"2081\"},{\"id\":\"2082\"},{\"id\":\"2083\"},{\"id\":\"2084\"},{\"id\":\"2085\"},{\"id\":\"2086\"},{\"id\":\"2087\"},{\"id\":\"2088\"},{\"id\":\"2089\"}]},\"id\":\"2034\",\"type\":\"DatetimeTicker\"},{\"attributes\":{\"data\":{\"Date\":{\"__ndarray__\":\"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\",\"dtype\":\"float64\",\"order\":\"little\",\"shape\":[1416]},\"Variable\":[\"Price\",\"Price\",\"Price\",\"Price\",\"Price\",\"Price\",\"Price\",\"Price\",\"Price\",\"Price\",\"Price\",\"Price\",\"Price\",\"Price\",\"Price\",\"Price\",\"Price\",\"Price\",\"Price\",\"Price\",\"Price\",\"Price\",\"Price\",\"Price\",\"Price\",\"Price\",\"Price\",\"Price\",\"Price\",\"Price\",\"Price\",\"Price\",\"Price\",\"Price\",\"Price\",\"Price\",\"Price\",\"Price\",\"Price\",\"Price\",\"Price\",\"Price\",\"Price\",\"Price\",\"Price\",\"Price\",\"Price\",\"Price\",\"Price\",\"Price\",\"Price\",\"Price\",\"Price\",\"Price\",\"Price\",\"Price\",\"Price\",\"Price\",\"Price\",\"Price\",\"Price\",\"Price\",\"Price\",\"Price\",\"Price\",\"Price\",\"Price\",\"Price\",\"Price\",\"Price\",\"Price\",\"Price\",\"Price\",\"Price\",\"Price\",\"Price\",\"Price\",\"Price\",\"Price\",\"Price\",\"Price\",\"Price\",\"Price\",\"Price\",\"Price\",\"Price\",\"Price\",\"Price\",\"Price\",\"Price\",\"Price\",\"Price\",\"Price\",\"Price\",\"Price\",\"Price\",\"Price\",\"Price\",\"Price\",\"Price\",\"Price\",\"Price\",\"Price\",\"Price\",\"Price\",\"Price\",\"Price\",\"Price\",\"Price\",\"Price\",\"Price\",\"Price\",\"Price\",\"Price\",\"Price\",\"Price\",\"Price\",\"Price\",\"Price\",\"Price\",\"Price\",\"Price\",\"Price\",\"Price\",\"Price\",\"Price\",\"Price\",\"Price\",\"Price\",\"Price\",\"Price\",\"Price\",\"Price\",\"Price\",\"Price\",\"Price\",\"Price\",\"Price\",\"Price\",\"Price\",\"Price\",\"Price\",\"Price\",\"Price\",\"Price\",\"Price\",\"Price\",\"Price\",\"Price\",\"Price\",\"Price\",\"Price\",\"Price\",\"Price\",\"Price\",\"Price\",\"Price\",\"Price\",\"Price\",\"Price\",\"Price\",\"Price\",\"Price\",\"Price\",\"Price\",\"Price\",\"Price\",\"Price\",\"Price\",\"Price\",\"Price\",\"Price\",\"Price\",\"Price\",\"Price\",\"Price\",\"Price\",\"Price\",\"Price\",\"Price\",\"Price\",\"Price\",\"Price\",\"Price\",\"Price\",\"Price\",\"Price\",\"Price\",\"Price\",\"Price\",\"Price\",\"Price\",\"Price\",\"Price\",\"Price\",\"Price\",\"Price\",\"Price\",\"Price\",\"Price\",\"Price\",\"Price\",\"Price\",\"Price\",\"Price\",\"Price\",\"Price\",\"Price\",\"Price\",\"Price\",\"Price\",\"Price\",\"Price\",\"Price\",\"Price\",\"Price\",\"Price\",\"Price\",\"Price\",\"Price\",\"Price\",\"Price\",\"Price\",\"Price\",\"Price\",\"Price\",\"Price\",\"Price\",\"Price\",\"Price\",\"Price\",\"Price\",\"Price\",\"Price\",\"Price\",\"Price\",\"Price\",\"Price\",\"Price\",\"Price\",\"Price\",\"Price\",\"Price\",\"Price\",\"Price\",\"Price\",\"Price\",\"Price\",\"Price\",\"Price\",\"Price\",\"Price\",\"Price\",\"Price\",\"Price\",\"Price\",\"Price\",\"Price\",\"Price\",\"Price\",\"Price\",\"Price\",\"Price\",\"Price\",\"Price\",\"Price\",\"Price\",\"Price\",\"Price\",\"Price\",\"Price\",\"Price\",\"Price\",\"Price\",\"Price\",\"Price\",\"Price\",\"Price\",\"Price\",\"Price\",\"Price\",\"Price\",\"Price\",\"Price\",\"Price\",\"Price\",\"Price\",\"Price\",\"Price\",\"Price\",\"Price\",\"Price\",\"Price\",\"Price\",\"Price\",\"Price\",\"Price\",\"Price\",\"Price\",\"Price\",\"Price\",\"Price\",\"Price\",\"Price\",\"Price\",\"Price\",\"Price\",\"Price\",\"Price\",\"Price\",\"Price\",\"Price\",\"Price\",\"Price\",\"Price\",\"Price\",\"Price\",\"Price\",\"Price\",\"Price\",\"Price\",\"Price\",\"Price\",\"Price\",\"Price\",\"Price\",\"Price\",\"Price\",\"Price\",\"Price\",\"Price\",\"Price\",\"Price\",\"Price\",\"Price\",\"Price\",\"Price\",\"Price\",\"Price\",\"Price\",\"Price\",\"Price\",\"Price\",\"Price\",\"Price\",\"Price\",\"Price\",\"Price\",\"Price\",\"Price\",\"Price\",\"Price\",\"Price\",\"Price\",\"Price\",\"Price\",\"Price\",\"Price\",\"Price\",\"Price\",\"Price\",\"Price\",\"Price\",\"Price\",\"Price\",\"Price\",\"Price\",\"Price\",\"Price\",\"Price\",\"Price\",\"Price\",\"Price\",\"Price\",\"Price\",\"Price\",\"Price\",\"Price\",\"Price\",\"Price\",\"Price\",\"Price\",\"Price\",\"Price\",\"Price\",\"Price\",\"Price\",\"Price\",\"Price\",\"Price\",\"Price\",\"Price\",\"Price\",\"Price\",\"Price\",\"Price\",\"Price\",\"Price\",\"Price\",\"Price\",\"Price\",\"Price\",\"Price\",\"Price\",\"Price\",\"Price\",\"Price\",\"Price\",\"Price\",\"Price\",\"Price\",\"Price\",\"Price\",\"Price\",\"Price\",\"Price\",\"Price\",\"Price\",\"Price\",\"Price\",\"Price\",\"Price\",\"Price\",\"Price\",\"Price\",\"Price\",\"Price\",\"Price\",\"Price\",\"Price\",\"Price\",\"Price\",\"Price\",\"Price\",\"Price\",\"Price\",\"Price\",\"Price\",\"Price\",\"Price\",\"Price\",\"Price\",\"Price\",\"Price\",\"Price\",\"Price\",\"Price\",\"Price\",\"Price\",\"Price\",\"Price\",\"Price\",\"Price\",\"Price\",\"Price\",\"Price\",\"Price\",\"Price\",\"Price\",\"Price\",\"Price\",\"Price\",\"Price\",\"Price\",\"Price\",\"Price\",\"Price\",\"Price\",\"Price\",\"Price\",\"Price\",\"Price\",\"Price\",\"Price\",\"Price\",\"Price\",\"Price\",\"Price\",\"Price\",\"Price\",\"Price\",\"Price\",\"Price\",\"Price\",\"Price\",\"Price\",\"Price\",\"Price\",\"Price\",\"Price\",\"Price\",\"Price\",\"Price\",\"Price\",\"Price\",\"Price\",\"Price\",\"Price\",\"Price\",\"Price\",\"Price\",\"Price\",\"Price\",\"Price\",\"Price\",\"Price\",\"Price\",\"Price\",\"Price\",\"Price\",\"Price\",\"Price\",\"Price\",\"Price\",\"Price\",\"Price\",\"Price\",\"Price\",\"Price\",\"Price\",\"Price\",\"Price\",\"Price\",\"Price\",\"Price\",\"Price\",\"Price\",\"Price\",\"Price\",\"Price\",\"Price\",\"Price\",\"Price\",\"Price\",\"Price\",\"Price\",\"Price\",\"Price\",\"Price\",\"Price\",\"Price\",\"Price\",\"Price\",\"Price\",\"Price\",\"Price\",\"Price\",\"Price\",\"Price\",\"Price\",\"Price\",\"Price\",\"Price\",\"Price\",\"Price\",\"Price\",\"Price\",\"Price\",\"Price\",\"Price\",\"Price\",\"Price\",\"Price\",\"Price\",\"Price\",\"Price\",\"Price\",\"Price\",\"Price\",\"Price\",\"Price\",\"Price\",\"Price\",\"Price\",\"Price\",\"Price\",\"Price\",\"Price\",\"Price\",\"Price\",\"Price\",\"Price\",\"Price\",\"Price\",\"Price\",\"Price\",\"Price\",\"Price\",\"Price\",\"Price\",\"Price\",\"Price\",\"Price\",\"Price\",\"Price\",\"Price\",\"Price\",\"Price\",\"Price\",\"Price\",\"Price\",\"Price\",\"Price\",\"Price\",\"Price\",\"Price\",\"Price\",\"Price\",\"Price\",\"Price\",\"Price\",\"Price\",\"Price\",\"Price\",\"Price\",\"Price\",\"Price\",\"Price\",\"Price\",\"Price\",\"Price\",\"Price\",\"Price\",\"Price\",\"Price\",\"Price\",\"Price\",\"Price\",\"Price\",\"Price\",\"Price\",\"Price\",\"Price\",\"Price\",\"Price\",\"Price\",\"Price\",\"Price\",\"Price\",\"Price\",\"Price\",\"Price\",\"Price\",\"Price\",\"Price\",\"Price\",\"Price\",\"Price\",\"Price\",\"Price\",\"Price\",\"Price\",\"Price\",\"Price\",\"Price\",\"Price\",\"Price\",\"Price\",\"Price\",\"Price\",\"Price\",\"Price\",\"Price\",\"Price\",\"Price\",\"Price\",\"Price\",\"Price\",\"Price\",\"Price\",\"Price\",\"Price\",\"Price\",\"Price\",\"Price\",\"Price\",\"Price\",\"Price\",\"Price\",\"Price\",\"Price\",\"Price\",\"Price\",\"Price\",\"Price\",\"Price\",\"Price\",\"Price\",\"Price\",\"Price\",\"Price\",\"Price\",\"Price\",\"Price\",\"Price\",\"Price\",\"Price\",\"Price\",\"Price\",\"Price\",\"Price\",\"Price\",\"Price\",\"Price\",\"Price\",\"Price\",\"Price\",\"Price\",\"Price\",\"Price\",\"Price\",\"Price\",\"Price\",\"Price\",\"Price\",\"Price\",\"Price\",\"Price\",\"Price\",\"Price\",\"Price\",\"Price\",\"Price\",\"Price\",\"Price\",\"Price\",\"Price\",\"Price\",\"Price\",\"Price\",\"Price\",\"Price\",\"Price\",\"Price\",\"Price\",\"Price\",\"Price\",\"Price\",\"Price\",\"Price\",\"Price\",\"Price\",\"Price\",\"Price\",\"Price\",\"Price\",\"Price\",\"Price\",\"Price\",\"Price\",\"Price\",\"Price\",\"Price\",\"Price\",\"Price\",\"Price\",\"Price\",\"Price\",\"Price\",\"Price\",\"Price\",\"Price\",\"Price\",\"Price\",\"Price\",\"Price\",\"Price\",\"Price\",\"Price\",\"Price\",\"Price\",\"Price\",\"Price\",\"Price\",\"Price\",\"Price\",\"Price\",\"Price\",\"Price\",\"Price\",\"Price\",\"Price\",\"Price\",\"Price\",\"Price\",\"Price\",\"Price\",\"Price\",\"Price\",\"Price\",\"Price\",\"Price\",\"Price\",\"Price\",\"Price\",\"Price\",\"Price\",\"Price\",\"Price\",\"Price\",\"Price\",\"Price\",\"Price\",\"Price\",\"Price\",\"Price\",\"Price\",\"Price\",\"Price\",\"Price\",\"Price\",\"Price\",\"Price\",\"Price\",\"Price\",\"Price\",\"Price\",\"Price\",\"Price\",\"Price\",\"Price\",\"Price\",\"Price\",\"Price\",\"Price\",\"Price\",\"Price\",\"Price\",\"Price\",\"Price\",\"Price\",\"Price\",\"Price\",\"Price\",\"Price\",\"Price\",\"Price\",\"Price\",\"Price\",\"Price\",\"Price\",\"Price\",\"Price\",\"Price\",\"Price\",\"Price\",\"Price\",\"Price\",\"Price\",\"Price\",\"Price\",\"Price\",\"Price\",\"Price\",\"Price\",\"Price\",\"Price\",\"Price\",\"Price\",\"Price\",\"Price\",\"Price\",\"Price\",\"Price\",\"Price\",\"Price\",\"Price\",\"Price\",\"Price\",\"Price\",\"Price\",\"Price\",\"Price\",\"Price\",\"Price\",\"Price\",\"Price\",\"Price\",\"Price\",\"Price\",\"Price\",\"Price\",\"Price\",\"Price\",\"Price\",\"Price\",\"Price\",\"Price\",\"Price\",\"Price\",\"Price\",\"Price\",\"Price\",\"Price\",\"Price\",\"Price\",\"Price\",\"Price\",\"Price\",\"Price\",\"Price\",\"Price\",\"Price\",\"Price\",\"Price\",\"Price\",\"Price\",\"Price\",\"Price\",\"Price\",\"Price\",\"Price\",\"Price\",\"Price\",\"Price\",\"Price\",\"Price\",\"Price\",\"Price\",\"Price\",\"Price\",\"Price\",\"Price\",\"Price\",\"Price\",\"Price\",\"Price\",\"Price\",\"Price\",\"Price\",\"Price\",\"Price\",\"Price\",\"Price\",\"Price\",\"Price\",\"Price\",\"Price\",\"Price\",\"Price\",\"Price\",\"Price\",\"Price\",\"Price\",\"Price\",\"Price\",\"Price\",\"Price\",\"Price\",\"Price\",\"Price\",\"Price\",\"Price\",\"Price\",\"Price\",\"Price\",\"Price\",\"Price\",\"Price\",\"Price\",\"Price\",\"Price\",\"Price\",\"Price\",\"Price\",\"Price\",\"Price\",\"Price\",\"Price\",\"Price\",\"Price\",\"Price\",\"Price\",\"Price\",\"Price\",\"Price\",\"Price\",\"Price\",\"Price\",\"Price\",\"Price\",\"Price\",\"Price\",\"Price\",\"Price\",\"Price\",\"Price\",\"Price\",\"Price\",\"Price\",\"Price\",\"Price\",\"Price\",\"Price\",\"Price\",\"Price\",\"Price\",\"Price\",\"Price\",\"Price\",\"Price\",\"Price\",\"Price\",\"Price\",\"Price\",\"Price\",\"Price\",\"Price\",\"Price\",\"Price\",\"Price\",\"Price\",\"Price\",\"Price\",\"Price\",\"Price\",\"Price\",\"Price\",\"Price\",\"Price\",\"Price\",\"Price\",\"Price\",\"Price\",\"Price\",\"Price\",\"Price\",\"Price\",\"Price\",\"Price\",\"Price\",\"Price\",\"Price\",\"Price\",\"Price\",\"Price\",\"Price\",\"Price\",\"Price\",\"Price\",\"Price\",\"Price\",\"Price\",\"Price\",\"Price\",\"Price\",\"Price\",\"Price\",\"Price\",\"Price\",\"Price\",\"Price\",\"Price\",\"Price\",\"Price\",\"Price\",\"Price\",\"Price\",\"Price\",\"Price\",\"Price\",\"Price\",\"Price\",\"Price\",\"Price\",\"Price\",\"Price\",\"Price\",\"Price\",\"Price\",\"Price\",\"Price\",\"Price\",\"Price\",\"Price\",\"Price\",\"Price\",\"Price\",\"Price\",\"Price\",\"Price\",\"Price\",\"Price\",\"Price\",\"Price\",\"Price\",\"Price\",\"Price\",\"Price\",\"Price\",\"Price\",\"Price\",\"Price\",\"Price\",\"Price\",\"Price\",\"Price\",\"Price\",\"Price\",\"Price\",\"Price\",\"Price\",\"Price\",\"Price\",\"Price\",\"Price\",\"Price\",\"Price\",\"Price\",\"Price\",\"Price\",\"Price\",\"Price\",\"Price\",\"Price\",\"Price\",\"Price\",\"Price\",\"Price\",\"Price\",\"Price\",\"Price\",\"Price\",\"Price\",\"Price\",\"Price\",\"Price\",\"Price\",\"Price\",\"Price\",\"Price\",\"Price\",\"Price\",\"Price\",\"Price\",\"Price\",\"Price\",\"Price\",\"Price\",\"Price\",\"Price\",\"Price\",\"Price\",\"Price\",\"Price\",\"Price\",\"Price\",\"Price\",\"Price\",\"Price\",\"Price\",\"Price\",\"Price\",\"Price\",\"Price\",\"Price\",\"Price\",\"Price\",\"Price\",\"Price\",\"Price\",\"Price\",\"Price\",\"Price\",\"Price\",\"Price\",\"Price\",\"Price\",\"Price\",\"Price\",\"Price\",\"Price\",\"Price\",\"Price\",\"Price\",\"Price\",\"Price\",\"Price\",\"Price\",\"Price\",\"Price\",\"Price\",\"Price\",\"Price\",\"Price\",\"Price\",\"Price\",\"Price\",\"Price\",\"Price\",\"Price\",\"Price\",\"Price\",\"Price\",\"Price\",\"Price\",\"Price\",\"Price\",\"Price\",\"Price\",\"Price\",\"Price\",\"Price\",\"Price\",\"Price\",\"Price\",\"Price\",\"Price\",\"Price\",\"Price\",\"Price\",\"Price\",\"Price\",\"Price\",\"Price\",\"Price\",\"Price\",\"Price\",\"Price\",\"Price\",\"Price\",\"Price\",\"Price\",\"Price\",\"Price\",\"Price\",\"Price\",\"Price\",\"Price\",\"Price\",\"Price\",\"Price\",\"Price\",\"Price\",\"Price\",\"Price\",\"Price\",\"Price\",\"Price\",\"Price\",\"Price\",\"Price\",\"Price\",\"Price\",\"Price\",\"Price\",\"Price\",\"Price\",\"Price\",\"Price\",\"Price\",\"Price\",\"Price\",\"Price\",\"Price\",\"Price\",\"Price\",\"Price\",\"Price\",\"Price\",\"Price\",\"Price\",\"Price\",\"Price\",\"Price\",\"Price\",\"Price\",\"Price\",\"Price\",\"Price\",\"Price\",\"Price\",\"Price\",\"Price\",\"Price\",\"Price\",\"Price\",\"Price\",\"Price\",\"Price\",\"Price\",\"Price\",\"Price\",\"Price\",\"Price\",\"Price\",\"Price\",\"Price\",\"Price\",\"Price\",\"Price\",\"Price\",\"Price\",\"Price\",\"Price\",\"Price\",\"Price\",\"Price\",\"Price\",\"Price\",\"Price\",\"Price\",\"Price\",\"Price\",\"Price\",\"Price\",\"Price\",\"Price\",\"Price\",\"Price\",\"Price\",\"Price\",\"Price\",\"Price\",\"Price\",\"Price\",\"Price\",\"Price\",\"Price\",\"Price\",\"Price\",\"Price\",\"Price\",\"Price\",\"Price\",\"Price\",\"Price\",\"Price\",\"Price\",\"Price\",\"Price\",\"Price\",\"Price\",\"Price\",\"Price\",\"Price\",\"Price\",\"Price\",\"Price\",\"Price\",\"Price\",\"Price\",\"Price\",\"Price\",\"Price\",\"Price\",\"Price\",\"Price\",\"Price\",\"Price\",\"Price\",\"Price\",\"Price\",\"Price\",\"Price\",\"Price\",\"Price\",\"Price\",\"Price\",\"Price\",\"Price\",\"Price\",\"Price\",\"Price\",\"Price\",\"Price\",\"Price\",\"Price\",\"Price\",\"Price\",\"Price\",\"Price\",\"Price\",\"Price\",\"Price\",\"Price\",\"Price\",\"Price\",\"Price\",\"Price\",\"Price\",\"Price\",\"Price\",\"Price\",\"Price\",\"Price\",\"Price\",\"Price\",\"Price\",\"Price\",\"Price\",\"Price\",\"Price\",\"Price\",\"Price\",\"Price\",\"Price\",\"Price\",\"Price\",\"Price\",\"Price\",\"Price\",\"Price\",\"Price\",\"Price\",\"Price\",\"Price\",\"Price\",\"Price\",\"Price\",\"Price\",\"Price\",\"Price\",\"Price\",\"Price\",\"Price\"],\"value\":{\"__ndarray__\":\"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\",\"dtype\":\"float64\",\"order\":\"little\",\"shape\":[1416]}},\"selected\":{\"id\":\"2061\"},\"selection_policy\":{\"id\":\"2075\"}},\"id\":\"2060\",\"type\":\"ColumnDataSource\"},{\"attributes\":{\"line_alpha\":0.2,\"line_color\":\"#fc4f30\",\"line_width\":2,\"x\":{\"field\":\"Date\"},\"y\":{\"field\":\"value\"}},\"id\":\"2098\",\"type\":\"Line\"},{\"attributes\":{\"line_color\":\"#fc4f30\",\"line_width\":2,\"x\":{\"field\":\"Date\"},\"y\":{\"field\":\"value\"}},\"id\":\"2126\",\"type\":\"Line\"},{\"attributes\":{},\"id\":\"2038\",\"type\":\"BasicTicker\"},{\"attributes\":{\"coordinates\":null,\"data_source\":{\"id\":\"2093\"},\"glyph\":{\"id\":\"2096\"},\"group\":null,\"hover_glyph\":null,\"muted_glyph\":{\"id\":\"2098\"},\"nonselection_glyph\":{\"id\":\"2097\"},\"selection_glyph\":{\"id\":\"2126\"},\"view\":{\"id\":\"2100\"}},\"id\":\"2099\",\"type\":\"GlyphRenderer\"},{\"attributes\":{\"axis_label\":\"Date\",\"coordinates\":null,\"formatter\":{\"id\":\"2055\"},\"group\":null,\"major_label_policy\":{\"id\":\"2056\"},\"ticker\":{\"id\":\"2034\"}},\"id\":\"2033\",\"type\":\"DatetimeAxis\"},{\"attributes\":{},\"id\":\"2094\",\"type\":\"Selection\"},{\"attributes\":{\"margin\":[5,5,5,5],\"name\":\"HSpacer02974\",\"sizing_mode\":\"stretch_width\"},\"id\":\"2343\",\"type\":\"Spacer\"},{\"attributes\":{},\"id\":\"2042\",\"type\":\"PanTool\"},{\"attributes\":{\"axis\":{\"id\":\"2037\"},\"coordinates\":null,\"dimension\":1,\"grid_line_color\":null,\"group\":null,\"ticker\":null},\"id\":\"2040\",\"type\":\"Grid\"},{\"attributes\":{\"source\":{\"id\":\"2093\"}},\"id\":\"2100\",\"type\":\"CDSView\"},{\"attributes\":{\"mantissas\":[1,2,5],\"max_interval\":500.0,\"num_minor_ticks\":0},\"id\":\"2078\",\"type\":\"AdaptiveTicker\"},{\"attributes\":{},\"id\":\"2089\",\"type\":\"YearsTicker\"},{\"attributes\":{},\"id\":\"2055\",\"type\":\"DatetimeTickFormatter\"},{\"attributes\":{},\"id\":\"2056\",\"type\":\"AllLabels\"},{\"attributes\":{\"label\":{\"value\":\"Price_trend\"},\"renderers\":[{\"id\":\"2099\"}]},\"id\":\"2125\",\"type\":\"LegendItem\"},{\"attributes\":{\"base\":60,\"mantissas\":[1,2,5,10,15,20,30],\"max_interval\":1800000.0,\"min_interval\":1000.0,\"num_minor_ticks\":0},\"id\":\"2079\",\"type\":\"AdaptiveTicker\"},{\"attributes\":{},\"id\":\"2043\",\"type\":\"WheelZoomTool\"},{\"attributes\":{\"base\":24,\"mantissas\":[1,2,4,6,8,12],\"max_interval\":43200000.0,\"min_interval\":3600000.0,\"num_minor_ticks\":0},\"id\":\"2080\",\"type\":\"AdaptiveTicker\"},{\"attributes\":{},\"id\":\"2041\",\"type\":\"SaveTool\"},{\"attributes\":{\"days\":[1,8,15,22]},\"id\":\"2083\",\"type\":\"DaysTicker\"},{\"attributes\":{\"days\":[1,2,3,4,5,6,7,8,9,10,11,12,13,14,15,16,17,18,19,20,21,22,23,24,25,26,27,28,29,30,31]},\"id\":\"2081\",\"type\":\"DaysTicker\"},{\"attributes\":{\"overlay\":{\"id\":\"2046\"}},\"id\":\"2044\",\"type\":\"BoxZoomTool\"},{\"attributes\":{\"days\":[1,4,7,10,13,16,19,22,25,28]},\"id\":\"2082\",\"type\":\"DaysTicker\"},{\"attributes\":{},\"id\":\"2045\",\"type\":\"ResetTool\"}],\"root_ids\":[\"2018\"]},\"title\":\"Bokeh Application\",\"version\":\"2.4.2\"}};\n",
       "    var render_items = [{\"docid\":\"a883a642-a284-4b69-91a7-623f4f135e2a\",\"root_ids\":[\"2018\"],\"roots\":{\"2018\":\"bf484c20-4916-4b72-9ca0-072a58c4342d\"}}];\n",
       "    root.Bokeh.embed.embed_items_notebook(docs_json, render_items);\n",
       "  }\n",
       "  if (root.Bokeh !== undefined && root.Bokeh.Panel !== undefined) {\n",
       "    embed_document(root);\n",
       "  } else {\n",
       "    var attempts = 0;\n",
       "    var timer = setInterval(function(root) {\n",
       "      if (root.Bokeh !== undefined && root.Bokeh.Panel !== undefined) {\n",
       "        clearInterval(timer);\n",
       "        embed_document(root);\n",
       "      } else if (document.readyState == \"complete\") {\n",
       "        attempts++;\n",
       "        if (attempts > 200) {\n",
       "          clearInterval(timer);\n",
       "          console.log(\"Bokeh: ERROR: Unable to run BokehJS code because BokehJS library is missing\");\n",
       "        }\n",
       "      }\n",
       "    }, 25, root)\n",
       "  }\n",
       "})(window);</script>"
      ],
      "text/plain": [
       ":NdOverlay   [Variable]\n",
       "   :Curve   [Date]   (value)"
      ]
     },
     "execution_count": 56,
     "metadata": {
      "application/vnd.holoviews_exec.v0+json": {
       "id": "2018"
      }
     },
     "output_type": "execute_result"
    }
   ],
   "source": [
    "# Plot the Exchange Rate Price vs. the Trend for 2015 to the present\n",
    "cad_jpy_df_new_plot = cad_jpy_df_hp.hvplot.line(x=\"Date\",y=[\"Price\",\"Price_trend\"],label=\"Price vs Trend\")\n",
    "cad_jpy_df_new_plot"
   ]
  },
  {
   "cell_type": "code",
   "execution_count": 57,
   "id": "cf5424e7",
   "metadata": {},
   "outputs": [],
   "source": [
    "# Question: Do you see any patterns, long-term and/or short?\n",
    "# Ans: Long term : We can see a decline of the CAD/JPY exchange rate from 1 CAD = 101.5 Yen in 2015 to 1 CAD = 78.29 Yen by 2020\n",
    "# Short term: We can see a downtrend between 2015 to 2017 where the CAD/JPY exchange rate decreased from 101.5 to 75.8 Yen\n",
    "# There are short term fluctuations around the trend amd price deviates around the trend line."
   ]
  },
  {
   "cell_type": "code",
   "execution_count": 58,
   "id": "28c27589",
   "metadata": {},
   "outputs": [
    {
     "data": {
      "text/plain": [
       "Text(0.5, 1.0, 'Noise')"
      ]
     },
     "execution_count": 58,
     "metadata": {},
     "output_type": "execute_result"
    },
    {
     "data": {
      "image/png": "[encoded data removed]",
      "text/plain": [
       "<Figure size 432x288 with 1 Axes>"
      ]
     },
     "metadata": {
      "needs_background": "light"
     },
     "output_type": "display_data"
    }
   ],
   "source": [
    "# Plot the Settle Noise\n",
    "plt.plot(cad_jpy_df_noise)\n",
    "plt.title(\"Noise\")"
   ]
  },
  {
   "cell_type": "code",
   "execution_count": 69,
   "id": "0124fccd",
   "metadata": {},
   "outputs": [
    {
     "data": {
      "text/html": [
       "<div>\n",
       "<style scoped>\n",
       "    .dataframe tbody tr th:only-of-type {\n",
       "        vertical-align: middle;\n",
       "    }\n",
       "\n",
       "    .dataframe tbody tr th {\n",
       "        vertical-align: top;\n",
       "    }\n",
       "\n",
       "    .dataframe thead th {\n",
       "        text-align: right;\n",
       "    }\n",
       "</style>\n",
       "<table border=\"1\" class=\"dataframe\">\n",
       "  <thead>\n",
       "    <tr style=\"text-align: right;\">\n",
       "      <th></th>\n",
       "      <th>Price</th>\n",
       "    </tr>\n",
       "    <tr>\n",
       "      <th>Date</th>\n",
       "      <th></th>\n",
       "    </tr>\n",
       "  </thead>\n",
       "  <tbody>\n",
       "    <tr>\n",
       "      <th>2020-05-29</th>\n",
       "      <td>0.076697</td>\n",
       "    </tr>\n",
       "    <tr>\n",
       "      <th>2020-06-01</th>\n",
       "      <td>1.251756</td>\n",
       "    </tr>\n",
       "    <tr>\n",
       "      <th>2020-06-02</th>\n",
       "      <td>1.425508</td>\n",
       "    </tr>\n",
       "    <tr>\n",
       "      <th>2020-06-03</th>\n",
       "      <td>0.373134</td>\n",
       "    </tr>\n",
       "    <tr>\n",
       "      <th>2020-06-04</th>\n",
       "      <td>0.012392</td>\n",
       "    </tr>\n",
       "  </tbody>\n",
       "</table>\n",
       "</div>"
      ],
      "text/plain": [
       "               Price\n",
       "Date                \n",
       "2020-05-29  0.076697\n",
       "2020-06-01  1.251756\n",
       "2020-06-02  1.425508\n",
       "2020-06-03  0.373134\n",
       "2020-06-04  0.012392"
      ]
     },
     "execution_count": 69,
     "metadata": {},
     "output_type": "execute_result"
    }
   ],
   "source": [
    "# Forecasting Returns using an ARMA Model\n",
    "\n",
    "# ARMA model has become obselete in Python. Code gives an error so skipping this part as per our Instrcutor advise. Below is the code in green\n",
    "\n",
    "# # Create a series using \"Price\" percentage returns, drop any nan\"s, and check the results:\n",
    "# (Make sure to multiply the pct_change() results by 100)\n",
    "# In this case, you may have to replace inf, -inf values with np.nan\"s\n",
    "returns = (cad_jpy_df[[\"Price\"]].pct_change() * 100)\n",
    "returns = returns.replace(-np.inf, np.nan).dropna()\n",
    "returns.tail()\n",
    "\n",
    "# Plot returns\n",
    "# plt.plot(returns[\"Price\"])\n",
    "# plt.title(\"Price Returns\")\n",
    "# import statsmodels.api as sm\n",
    "# from statsmodels.tsa.arima_model import ARMA\n",
    "\n",
    "# Estimate and ARMA model using statsmodels (use order=(2, 1))\n",
    "# model = ARMA(returns.values, order=(2, 1))\n",
    "# Fit the model and assign it to a variable called results\n",
    "# results = model.fit()\n",
    "\n",
    "# Output model summary results:\n",
    "# results.summary()"
   ]
  },
  {
   "cell_type": "code",
   "execution_count": 63,
   "id": "1da6c71b",
   "metadata": {},
   "outputs": [],
   "source": [
    "# Forecasting Returns using an ARMIA Model\n",
    "\n",
    "import statsmodels.api as sm\n",
    "from statsmodels.tsa.arima.model import ARIMA\n",
    "\n",
    "# Estimate and ARIMA model using statsmodels (use order=(p,d,q))\n",
    "ARIMA_model = ARIMA(cad_jpy_df[\"Price\"], order=(5,1,1)) \n",
    "\n",
    "# Fit the model and assign it to a variable called results\n",
    "results = ARIMA_model.fit()\n",
    "\n"
   ]
  },
  {
   "cell_type": "code",
   "execution_count": 64,
   "id": "f4579f1e",
   "metadata": {},
   "outputs": [
    {
     "data": {
      "text/html": [
       "<table class=\"simpletable\">\n",
       "<caption>SARIMAX Results</caption>\n",
       "<tr>\n",
       "  <th>Dep. Variable:</th>         <td>Price</td>      <th>  No. Observations:  </th>   <td>7929</td>   \n",
       "</tr>\n",
       "<tr>\n",
       "  <th>Model:</th>            <td>ARIMA(5, 1, 1)</td>  <th>  Log Likelihood     </th> <td>-8745.898</td>\n",
       "</tr>\n",
       "<tr>\n",
       "  <th>Date:</th>            <td>Sat, 06 Aug 2022</td> <th>  AIC                </th> <td>17505.796</td>\n",
       "</tr>\n",
       "<tr>\n",
       "  <th>Time:</th>                <td>00:08:22</td>     <th>  BIC                </th> <td>17554.643</td>\n",
       "</tr>\n",
       "<tr>\n",
       "  <th>Sample:</th>                  <td>0</td>        <th>  HQIC               </th> <td>17522.523</td>\n",
       "</tr>\n",
       "<tr>\n",
       "  <th></th>                      <td> - 7929</td>     <th>                     </th>     <td> </td>    \n",
       "</tr>\n",
       "<tr>\n",
       "  <th>Covariance Type:</th>        <td>opg</td>       <th>                     </th>     <td> </td>    \n",
       "</tr>\n",
       "</table>\n",
       "<table class=\"simpletable\">\n",
       "<tr>\n",
       "     <td></td>       <th>coef</th>     <th>std err</th>      <th>z</th>      <th>P>|z|</th>  <th>[0.025</th>    <th>0.975]</th>  \n",
       "</tr>\n",
       "<tr>\n",
       "  <th>ar.L1</th>  <td>    0.4303</td> <td>    0.331</td> <td>    1.299</td> <td> 0.194</td> <td>   -0.219</td> <td>    1.080</td>\n",
       "</tr>\n",
       "<tr>\n",
       "  <th>ar.L2</th>  <td>    0.0178</td> <td>    0.012</td> <td>    1.459</td> <td> 0.145</td> <td>   -0.006</td> <td>    0.042</td>\n",
       "</tr>\n",
       "<tr>\n",
       "  <th>ar.L3</th>  <td>   -0.0118</td> <td>    0.009</td> <td>   -1.313</td> <td> 0.189</td> <td>   -0.029</td> <td>    0.006</td>\n",
       "</tr>\n",
       "<tr>\n",
       "  <th>ar.L4</th>  <td>    0.0110</td> <td>    0.008</td> <td>    1.299</td> <td> 0.194</td> <td>   -0.006</td> <td>    0.028</td>\n",
       "</tr>\n",
       "<tr>\n",
       "  <th>ar.L5</th>  <td>   -0.0191</td> <td>    0.007</td> <td>   -2.706</td> <td> 0.007</td> <td>   -0.033</td> <td>   -0.005</td>\n",
       "</tr>\n",
       "<tr>\n",
       "  <th>ma.L1</th>  <td>   -0.4583</td> <td>    0.332</td> <td>   -1.381</td> <td> 0.167</td> <td>   -1.109</td> <td>    0.192</td>\n",
       "</tr>\n",
       "<tr>\n",
       "  <th>sigma2</th> <td>    0.5318</td> <td>    0.004</td> <td>  118.418</td> <td> 0.000</td> <td>    0.523</td> <td>    0.541</td>\n",
       "</tr>\n",
       "</table>\n",
       "<table class=\"simpletable\">\n",
       "<tr>\n",
       "  <th>Ljung-Box (L1) (Q):</th>     <td>0.00</td> <th>  Jarque-Bera (JB):  </th> <td>9233.72</td>\n",
       "</tr>\n",
       "<tr>\n",
       "  <th>Prob(Q):</th>                <td>0.97</td> <th>  Prob(JB):          </th>  <td>0.00</td>  \n",
       "</tr>\n",
       "<tr>\n",
       "  <th>Heteroskedasticity (H):</th> <td>0.78</td> <th>  Skew:              </th>  <td>-0.58</td> \n",
       "</tr>\n",
       "<tr>\n",
       "  <th>Prob(H) (two-sided):</th>    <td>0.00</td> <th>  Kurtosis:          </th>  <td>8.16</td>  \n",
       "</tr>\n",
       "</table><br/><br/>Warnings:<br/>[1] Covariance matrix calculated using the outer product of gradients (complex-step)."
      ],
      "text/plain": [
       "<class 'statsmodels.iolib.summary.Summary'>\n",
       "\"\"\"\n",
       "                               SARIMAX Results                                \n",
       "==============================================================================\n",
       "Dep. Variable:                  Price   No. Observations:                 7929\n",
       "Model:                 ARIMA(5, 1, 1)   Log Likelihood               -8745.898\n",
       "Date:                Sat, 06 Aug 2022   AIC                          17505.796\n",
       "Time:                        00:08:22   BIC                          17554.643\n",
       "Sample:                             0   HQIC                         17522.523\n",
       "                               - 7929                                         \n",
       "Covariance Type:                  opg                                         \n",
       "==============================================================================\n",
       "                 coef    std err          z      P>|z|      [0.025      0.975]\n",
       "------------------------------------------------------------------------------\n",
       "ar.L1          0.4303      0.331      1.299      0.194      -0.219       1.080\n",
       "ar.L2          0.0178      0.012      1.459      0.145      -0.006       0.042\n",
       "ar.L3         -0.0118      0.009     -1.313      0.189      -0.029       0.006\n",
       "ar.L4          0.0110      0.008      1.299      0.194      -0.006       0.028\n",
       "ar.L5         -0.0191      0.007     -2.706      0.007      -0.033      -0.005\n",
       "ma.L1         -0.4583      0.332     -1.381      0.167      -1.109       0.192\n",
       "sigma2         0.5318      0.004    118.418      0.000       0.523       0.541\n",
       "===================================================================================\n",
       "Ljung-Box (L1) (Q):                   0.00   Jarque-Bera (JB):              9233.72\n",
       "Prob(Q):                              0.97   Prob(JB):                         0.00\n",
       "Heteroskedasticity (H):               0.78   Skew:                            -0.58\n",
       "Prob(H) (two-sided):                  0.00   Kurtosis:                         8.16\n",
       "===================================================================================\n",
       "\n",
       "Warnings:\n",
       "[1] Covariance matrix calculated using the outer product of gradients (complex-step).\n",
       "\"\"\""
      ]
     },
     "execution_count": 64,
     "metadata": {},
     "output_type": "execute_result"
    }
   ],
   "source": [
    "# Output model summary results:\n",
    "results.summary()"
   ]
  },
  {
   "cell_type": "code",
   "execution_count": 65,
   "id": "eddc2ad3",
   "metadata": {},
   "outputs": [
    {
     "data": {
      "text/plain": [
       "<AxesSubplot:title={'center':'5 day Returns Forecast'}>"
      ]
     },
     "execution_count": 65,
     "metadata": {},
     "output_type": "execute_result"
    },
    {
     "data": {
      "image/png": "[encoded data removed]",
      "text/plain": [
       "<Figure size 432x288 with 1 Axes>"
      ]
     },
     "metadata": {
      "needs_background": "light"
     },
     "output_type": "display_data"
    }
   ],
   "source": [
    "# Plot the 5 Day Price Forecast\n",
    "pd.DataFrame(results.forecast(steps=5)).plot(title=\"5 day Returns Forecast\")"
   ]
  },
  {
   "cell_type": "code",
   "execution_count": 66,
   "id": "dd338d89",
   "metadata": {},
   "outputs": [],
   "source": [
    "# Question: What does the model forecast will happen to the Japanese Yen in the near term?\n",
    "# Ans: The model forecasts that the Japanese Yen will gain strength in next 5 days. CAD would be devalued as the price of CAD relative to Yen will decrease"
   ]
  },
  {
   "cell_type": "code",
   "execution_count": 78,
   "id": "54263ddd",
   "metadata": {},
   "outputs": [],
   "source": [
    "# Volatility Forecasting with GARCH\n",
    "\n",
    "from arch import arch_model"
   ]
  },
  {
   "cell_type": "code",
   "execution_count": 79,
   "id": "f18f6756",
   "metadata": {},
   "outputs": [],
   "source": [
    "# Estimate a GARCH model:\n",
    "garch_model = arch_model(returns, mean=\"Zero\", vol=\"GARCH\", p=2, q=1)\n",
    "\n",
    "\n",
    "# Fit the model\n",
    "results = garch_model.fit(disp=\"off\")"
   ]
  },
  {
   "cell_type": "code",
   "execution_count": 80,
   "id": "dd235390",
   "metadata": {},
   "outputs": [
    {
     "data": {
      "text/html": [
       "<table class=\"simpletable\">\n",
       "<caption>Zero Mean - GARCH Model Results</caption>\n",
       "<tr>\n",
       "  <th>Dep. Variable:</th>        <td>Price</td>       <th>  R-squared:         </th>  <td>   0.000</td> \n",
       "</tr>\n",
       "<tr>\n",
       "  <th>Mean Model:</th>         <td>Zero Mean</td>     <th>  Adj. R-squared:    </th>  <td>   0.000</td> \n",
       "</tr>\n",
       "<tr>\n",
       "  <th>Vol Model:</th>            <td>GARCH</td>       <th>  Log-Likelihood:    </th> <td>  -8911.02</td>\n",
       "</tr>\n",
       "<tr>\n",
       "  <th>Distribution:</th>        <td>Normal</td>       <th>  AIC:               </th> <td>   17830.0</td>\n",
       "</tr>\n",
       "<tr>\n",
       "  <th>Method:</th>        <td>Maximum Likelihood</td> <th>  BIC:               </th> <td>   17858.0</td>\n",
       "</tr>\n",
       "<tr>\n",
       "  <th></th>                        <td></td>          <th>  No. Observations:  </th>    <td>7928</td>   \n",
       "</tr>\n",
       "<tr>\n",
       "  <th>Date:</th>           <td>Sat, Aug 06 2022</td>  <th>  Df Residuals:      </th>    <td>7928</td>   \n",
       "</tr>\n",
       "<tr>\n",
       "  <th>Time:</th>               <td>00:22:22</td>      <th>  Df Model:          </th>      <td>0</td>    \n",
       "</tr>\n",
       "</table>\n",
       "<table class=\"simpletable\">\n",
       "<caption>Volatility Model</caption>\n",
       "<tr>\n",
       "      <td></td>        <th>coef</th>     <th>std err</th>      <th>t</th>       <th>P>|t|</th>      <th>95.0% Conf. Int.</th>   \n",
       "</tr>\n",
       "<tr>\n",
       "  <th>omega</th>    <td>9.0733e-03</td> <td>2.545e-03</td> <td>    3.566</td> <td>3.628e-04</td>  <td>[4.086e-03,1.406e-02]</td>\n",
       "</tr>\n",
       "<tr>\n",
       "  <th>alpha[1]</th> <td>    0.0624</td> <td>1.835e-02</td> <td>    3.402</td> <td>6.682e-04</td>  <td>[2.647e-02,9.841e-02]</td>\n",
       "</tr>\n",
       "<tr>\n",
       "  <th>alpha[2]</th>   <td>0.0000</td>   <td>2.010e-02</td>   <td>0.000</td>   <td>    1.000</td> <td>[-3.940e-02,3.940e-02]</td>\n",
       "</tr>\n",
       "<tr>\n",
       "  <th>beta[1]</th>  <td>    0.9243</td> <td>1.229e-02</td> <td>   75.205</td>   <td>0.000</td>      <td>[  0.900,  0.948]</td>  \n",
       "</tr>\n",
       "</table><br/><br/>Covariance estimator: robust"
      ],
      "text/plain": [
       "<class 'statsmodels.iolib.summary.Summary'>\n",
       "\"\"\"\n",
       "                       Zero Mean - GARCH Model Results                        \n",
       "==============================================================================\n",
       "Dep. Variable:                  Price   R-squared:                       0.000\n",
       "Mean Model:                 Zero Mean   Adj. R-squared:                  0.000\n",
       "Vol Model:                      GARCH   Log-Likelihood:               -8911.02\n",
       "Distribution:                  Normal   AIC:                           17830.0\n",
       "Method:            Maximum Likelihood   BIC:                           17858.0\n",
       "                                        No. Observations:                 7928\n",
       "Date:                Sat, Aug 06 2022   Df Residuals:                     7928\n",
       "Time:                        00:22:22   Df Model:                            0\n",
       "                               Volatility Model                              \n",
       "=============================================================================\n",
       "                 coef    std err          t      P>|t|       95.0% Conf. Int.\n",
       "-----------------------------------------------------------------------------\n",
       "omega      9.0733e-03  2.545e-03      3.566  3.628e-04  [4.086e-03,1.406e-02]\n",
       "alpha[1]       0.0624  1.835e-02      3.402  6.682e-04  [2.647e-02,9.841e-02]\n",
       "alpha[2]       0.0000  2.010e-02      0.000      1.000 [-3.940e-02,3.940e-02]\n",
       "beta[1]        0.9243  1.229e-02     75.205      0.000      [  0.900,  0.948]\n",
       "=============================================================================\n",
       "\n",
       "Covariance estimator: robust\n",
       "\"\"\""
      ]
     },
     "execution_count": 80,
     "metadata": {},
     "output_type": "execute_result"
    }
   ],
   "source": [
    "# Summarize the model results\n",
    "results.summary()"
   ]
  },
  {
   "cell_type": "code",
   "execution_count": 81,
   "id": "05cdb7b9",
   "metadata": {},
   "outputs": [
    {
     "data": {
      "text/plain": [
       "'2020-06-04'"
      ]
     },
     "execution_count": 81,
     "metadata": {},
     "output_type": "execute_result"
    }
   ],
   "source": [
    "# Find the last day of the dataset\n",
    "last_day = returns.index.max().strftime('%Y-%m-%d')\n",
    "last_day"
   ]
  },
  {
   "cell_type": "code",
   "execution_count": 82,
   "id": "14947968",
   "metadata": {},
   "outputs": [],
   "source": [
    "# Create a 5 day forecast of volatility\n",
    "forecast_horizon = 5\n",
    "\n",
    "# Start the forecast using the last_day calculated above\n",
    "forecasts = results.forecast(start=last_day, horizon=forecast_horizon)"
   ]
  },
  {
   "cell_type": "code",
   "execution_count": 83,
   "id": "8f58b680",
   "metadata": {},
   "outputs": [
    {
     "data": {
      "text/html": [
       "<div>\n",
       "<style scoped>\n",
       "    .dataframe tbody tr th:only-of-type {\n",
       "        vertical-align: middle;\n",
       "    }\n",
       "\n",
       "    .dataframe tbody tr th {\n",
       "        vertical-align: top;\n",
       "    }\n",
       "\n",
       "    .dataframe thead th {\n",
       "        text-align: right;\n",
       "    }\n",
       "</style>\n",
       "<table border=\"1\" class=\"dataframe\">\n",
       "  <thead>\n",
       "    <tr style=\"text-align: right;\">\n",
       "      <th></th>\n",
       "      <th>h.1</th>\n",
       "      <th>h.2</th>\n",
       "      <th>h.3</th>\n",
       "      <th>h.4</th>\n",
       "      <th>h.5</th>\n",
       "    </tr>\n",
       "    <tr>\n",
       "      <th>Date</th>\n",
       "      <th></th>\n",
       "      <th></th>\n",
       "      <th></th>\n",
       "      <th></th>\n",
       "      <th></th>\n",
       "    </tr>\n",
       "  </thead>\n",
       "  <tbody>\n",
       "    <tr>\n",
       "      <th>2020-06-04</th>\n",
       "      <td>12.566029</td>\n",
       "      <td>12.573718</td>\n",
       "      <td>12.581301</td>\n",
       "      <td>12.588778</td>\n",
       "      <td>12.596153</td>\n",
       "    </tr>\n",
       "  </tbody>\n",
       "</table>\n",
       "</div>"
      ],
      "text/plain": [
       "                  h.1        h.2        h.3        h.4        h.5\n",
       "Date                                                             \n",
       "2020-06-04  12.566029  12.573718  12.581301  12.588778  12.596153"
      ]
     },
     "execution_count": 83,
     "metadata": {},
     "output_type": "execute_result"
    }
   ],
   "source": [
    "# Annualize the forecast\n",
    "intermediate = np.sqrt(forecasts.variance.dropna() * 252)\n",
    "intermediate.head()"
   ]
  },
  {
   "cell_type": "code",
   "execution_count": 84,
   "id": "ed4b94f2",
   "metadata": {},
   "outputs": [
    {
     "data": {
      "text/html": [
       "<div>\n",
       "<style scoped>\n",
       "    .dataframe tbody tr th:only-of-type {\n",
       "        vertical-align: middle;\n",
       "    }\n",
       "\n",
       "    .dataframe tbody tr th {\n",
       "        vertical-align: top;\n",
       "    }\n",
       "\n",
       "    .dataframe thead th {\n",
       "        text-align: right;\n",
       "    }\n",
       "</style>\n",
       "<table border=\"1\" class=\"dataframe\">\n",
       "  <thead>\n",
       "    <tr style=\"text-align: right;\">\n",
       "      <th>Date</th>\n",
       "      <th>2020-06-04</th>\n",
       "    </tr>\n",
       "  </thead>\n",
       "  <tbody>\n",
       "    <tr>\n",
       "      <th>h.1</th>\n",
       "      <td>12.566029</td>\n",
       "    </tr>\n",
       "    <tr>\n",
       "      <th>h.2</th>\n",
       "      <td>12.573718</td>\n",
       "    </tr>\n",
       "    <tr>\n",
       "      <th>h.3</th>\n",
       "      <td>12.581301</td>\n",
       "    </tr>\n",
       "    <tr>\n",
       "      <th>h.4</th>\n",
       "      <td>12.588778</td>\n",
       "    </tr>\n",
       "    <tr>\n",
       "      <th>h.5</th>\n",
       "      <td>12.596153</td>\n",
       "    </tr>\n",
       "  </tbody>\n",
       "</table>\n",
       "</div>"
      ],
      "text/plain": [
       "Date  2020-06-04\n",
       "h.1    12.566029\n",
       "h.2    12.573718\n",
       "h.3    12.581301\n",
       "h.4    12.588778\n",
       "h.5    12.596153"
      ]
     },
     "execution_count": 84,
     "metadata": {},
     "output_type": "execute_result"
    }
   ],
   "source": [
    "# Transpose the forecast so that it is easier to plot\n",
    "final = intermediate.dropna().T\n",
    "final.head()"
   ]
  },
  {
   "cell_type": "code",
   "execution_count": 85,
   "id": "00aff0a2",
   "metadata": {},
   "outputs": [
    {
     "data": {
      "text/plain": [
       "Text(0.5, 1.0, 'GARCH Volatility Forecast')"
      ]
     },
     "execution_count": 85,
     "metadata": {},
     "output_type": "execute_result"
    },
    {
     "data": {
      "image/png": "[encoded data removed]",
      "text/plain": [
       "<Figure size 432x288 with 1 Axes>"
      ]
     },
     "metadata": {
      "needs_background": "light"
     },
     "output_type": "display_data"
    }
   ],
   "source": [
    "# Plot the final forecast\n",
    "plt.plot(final)\n",
    "plt.title(\"GARCH Volatility Forecast\")"
   ]
  },
  {
   "cell_type": "code",
   "execution_count": 86,
   "id": "507aa80d",
   "metadata": {},
   "outputs": [],
   "source": [
    "## Question:** What does the model forecast will happen to volatility in the near term?\n",
    "\n",
    "## Ans: The model forecasts that the volatility will increase in the near term."
   ]
  },
  {
   "cell_type": "code",
   "execution_count": 88,
   "id": "45847d08",
   "metadata": {},
   "outputs": [],
   "source": [
    "# Conclusions\n",
    " \n",
    "# Que. Based on your time series analysis, would you buy the yen now?\n",
    "\n",
    "# Ans. Based on time series analysis, the YEN will be stronger compared to CAD, so its a buying opportunity.\n",
    "\n",
    "# Que. Is the risk of the yen expected to increase or decrease?\n",
    "\n",
    "# Ans. The the risk will increase in the near future as GARCH model shows high volatility.\n",
    "\n",
    "# Que. Based on the model evaluation, would you feel confident in using these models for trading?\n",
    "# Ans. The model can be used with conjunction with other models to come up with a trading decision as p value is insignificant from the model.\n",
    "# I will be not confindent until i see results from evaluating other models."
   ]
  },
  {
   "cell_type": "code",
   "execution_count": null,
   "id": "245f34db",
   "metadata": {},
   "outputs": [],
   "source": []
  }
 ],
 "metadata": {
  "kernelspec": {
   "display_name": "Python 3 (ipykernel)",
   "language": "python",
   "name": "python3"
  },
  "language_info": {
   "codemirror_mode": {
    "name": "ipython",
    "version": 3
   },
   "file_extension": ".py",
   "mimetype": "text/x-python",
   "name": "python",
   "nbconvert_exporter": "python",
   "pygments_lexer": "ipython3",
   "version": "3.9.7"
  }
 },
 "nbformat": 4,
 "nbformat_minor": 5
}
